{
 "cells": [
  {
   "cell_type": "markdown",
   "id": "726d1443",
   "metadata": {},
   "source": [
    "$$\n",
    "\\begin{array}{c}\n",
    "\\textbf{CAUSAL INFERENCE - Fall 2025}\\\\\\\\\n",
    "\\textit{Center for Data Science, New York University} \\\\\\\\\n",
    "\\textit{October 03, 2025}\\\\\\\\\\\n",
    "\\text{ Prepared by: Vivek Kumar Agarwal, Ref: Lecture notes Xiang Gao}\\\\\\\\\n",
    "\\textbf{Recitation 5: Experiments }\\\\\\\\\n",
    "\\end{array}\n",
    "$$"
   ]
  },
  {
   "cell_type": "markdown",
   "id": "c5efaccf",
   "metadata": {},
   "source": [
    "# Experiments \n",
    "\n",
    "![Causal Inference](../figures/CI_lab5_image1.jpg)"
   ]
  },
  {
   "cell_type": "markdown",
   "id": "f7557138",
   "metadata": {},
   "source": [
    "## Today's Recitation \n",
    "\n",
    "### Quick Review\n",
    "- Degrees of Freedom - Discussion in Lab 4\n",
    "\n",
    "### Continuing Ahead with\n",
    "- Experiments \n",
    "- Lets Code!!"
   ]
  },
  {
   "cell_type": "markdown",
   "id": "00b2854a",
   "metadata": {},
   "source": [
    "---"
   ]
  },
  {
   "cell_type": "markdown",
   "id": "58345dee",
   "metadata": {},
   "source": [
    "# Degrees of Freedom in Statistics\n",
    "\n",
    "## Introduction\n",
    "\n",
    "Degrees of freedom (df) is a fundamental concept in statistics that appears in many contexts: hypothesis testing, confidence intervals, regression analysis, and more. It helps make accurate statistical inferences.\n",
    "\n",
    "## Core Definition\n",
    "\n",
    "**Degrees of Freedom** = The number of values that are free to vary after we've imposed certain constraints or estimated parameters from the data.\n",
    "\n",
    "Mathematically:\n",
    "```\n",
    "df = n - k\n",
    "```\n",
    "where:\n",
    "- n = number of observations\n",
    "- k = number of constraints or parameters estimated\n",
    "\n",
    "---\n",
    "\n",
    "## A little Intuiition !!!\n",
    "\n",
    "### The Restaurant Menu Analogy\n",
    "\n",
    "Imagine you're ordering food for 3 friends with a $30 budget:\n",
    "- Friend 1 orders a $12 meal ✓ (free choice)\n",
    "- Friend 2 orders an $8 meal ✓ (free choice)\n",
    "- Friend 3 must order a $10 meal ✗ (constrained by budget)\n",
    "\n",
    "Even though there are 3 people, only 2 have \"freedom\" to choose. The third choice is determined by the constraint (budget = $30).\n",
    "\n",
    "### The Simple Numbers Example\n",
    "\n",
    "Suppose you have 3 numbers with a mean of 10.\n",
    "\n",
    "If the first two numbers are 8 and 12, what must the third number be?\n",
    "\n",
    "```\n",
    "(8 + 12 + x₃) / 3 = 10\n",
    "20 + x₃ = 30\n",
    "x₃ = 10\n",
    "```\n",
    "\n",
    "The third value is **determined** once we know:\n",
    "1. The first two values\n",
    "2. The mean (constraint)\n",
    "\n",
    "Therefore: 3 observations - 1 constraint = **2 degrees of freedom**\n",
    "\n",
    "## Understanding Constraints\n",
    "\n",
    "A **constraint** is a condition that the data must satisfy, limiting how freely values can vary.\n",
    "\n",
    "### Common Statistical Constraints\n",
    "\n",
    "1. **Fixed Sum**: When values must sum to a specific total\n",
    "   - Example: Σxᵢ = 50\n",
    "\n",
    "2. **Deviations Sum to Zero**: When calculating variance\n",
    "   - Constraint: Σ(xᵢ - x̄) = 0\n",
    "   - This is always true mathematically\n",
    "\n",
    "3. **Probabilities Sum to One**: In probability distributions\n",
    "   - Constraint: Σpᵢ = 1\n",
    "\n",
    "### Example: Deviations from the Mean\n",
    "\n",
    "Given data: [2, 4, 6, 8, 10], mean = 6\n",
    "\n",
    "Deviations: [-4, -2, 0, 2, 4]\n",
    "\n",
    "Notice that: -4 + (-2) + 0 + 2 + 4 = 0\n",
    "\n",
    "If you know the first 4 deviations, the 5th is automatically determined to make the sum equal zero.\n",
    "\n",
    "## Understanding Parameters Estimated\n",
    "\n",
    "Each time we **estimate a parameter from the data** and then use it in subsequent calculations, we \"use up\" one degree of freedom.\n",
    "\n",
    "### Why Does This Happen?\n",
    "\n",
    "When you estimate a parameter from your sample, you create a dependency between that estimate and your data. This dependency acts as a constraint.\n",
    "\n",
    "### Example: Sample Variance\n",
    "\n",
    "The formula for sample variance:\n",
    "\n",
    "```\n",
    "s² = Σ(xᵢ - x̄)² / (n - 1)\n",
    "```\n",
    "\n",
    "Why (n - 1) and not n?\n",
    "\n",
    "1. We start with n independent observations\n",
    "2. We calculate x̄ (sample mean) from these same observations\n",
    "3. We've now estimated 1 parameter, creating the constraint Σ(xᵢ - x̄) = 0\n",
    "4. Only (n - 1) deviations can vary freely\n",
    "5. Therefore: df = n - 1\n",
    "\n",
    "### The Key Insight\n",
    "\n",
    "**Estimating a parameter = Creating a constraint**\n",
    "\n",
    "When we estimate the mean from our data, we force the deviations to sum to zero. This is a constraint we've imposed by using the data twice (once to estimate, once to calculate variance).\n",
    "\n",
    "## The General Formula\n",
    "\n",
    "For most statistical procedures:\n",
    "\n",
    "```\n",
    "Degrees of Freedom = Number of observations - Number of parameters estimated\n",
    "```\n",
    "\n",
    "Or equivalently:\n",
    "\n",
    "```\n",
    "Degrees of Freedom = Number of independent pieces of information\n",
    "```\n",
    "\n",
    "## Common Applications\n",
    "\n",
    "### 1. One-Sample t-Test\n",
    "\n",
    "Testing if a sample mean differs from a hypothesized value.\n",
    "\n",
    "```\n",
    "df = n - 1\n",
    "```\n",
    "\n",
    "We estimate 1 parameter (μ, the population mean) from the sample.\n",
    "\n",
    "### 2. Two-Sample t-Test\n",
    "\n",
    "Comparing means of two independent groups.\n",
    "\n",
    "```\n",
    "df = n₁ + n₂ - 2\n",
    "```\n",
    "\n",
    "We estimate 2 parameters (μ₁ and μ₂, the two group means).\n",
    "\n",
    "\n",
    "The frequencies must sum to n (constraint), so only (k - 1) are free to vary.\n",
    "\n",
    "\n",
    "### 3. Simple Linear Regression\n",
    "\n",
    "Fitting a line: y = β₀ + β₁x\n",
    "\n",
    "```\n",
    "df = n - 2\n",
    "```\n",
    "\n",
    "We estimate 2 parameters (β₀ and β₁, the intercept and slope).\n",
    "\n",
    "### 6. Multiple Linear Regression\n",
    "\n",
    "With p predictor variables:\n",
    "\n",
    "```\n",
    "df = n - (p + 1)\n",
    "```\n",
    "\n",
    "We estimate (p + 1) parameters: p slopes plus 1 intercept.\n",
    "\n",
    "\n",
    "## Why Do Degrees of Freedom Matter?\n",
    "\n",
    "### 1. Correct Standard Errors\n",
    "\n",
    "Using the wrong df leads to incorrect standard errors and invalid inference.\n",
    "\n",
    "### 2. Appropriate Test Statistics\n",
    "\n",
    "Many test statistics (t, χ², F) follow distributions that depend on degrees of freedom.\n",
    "\n",
    "### 3. Accurate p-Values\n",
    "\n",
    "The df determine the shape of the sampling distribution, affecting p-value calculations.\n",
    "\n",
    "### 4. Better Estimation\n",
    "\n",
    "Using (n - 1) instead of n makes the sample variance an unbiased estimator of population variance.\n",
    "\n",
    "---\n",
    "\n",
    "## An Example to summarize: Sample Variance\n",
    "\n",
    "Let's calculate variance for the dataset: [4, 8, 6, 10, 2]\n",
    "\n",
    "**Step 1**: Calculate the mean\n",
    "```\n",
    "x̄ = (4 + 8 + 6 + 10 + 2) / 5 = 30 / 5 = 6\n",
    "```\n",
    "\n",
    "**Step 2**: Calculate deviations\n",
    "```\n",
    "x₁ - x̄ = 4 - 6 = -2\n",
    "x₂ - x̄ = 8 - 6 = 2\n",
    "x₃ - x̄ = 6 - 6 = 0\n",
    "x₄ - x̄ = 10 - 6 = 4\n",
    "x₅ - x̄ = 2 - 6 = -4\n",
    "```\n",
    "\n",
    "**Step 3**: Verify constraint\n",
    "```\n",
    "Sum of deviations = -2 + 2 + 0 + 4 + (-4) = 0 ✓\n",
    "```\n",
    "\n",
    "**Step 4**: Calculate sum of squared deviations\n",
    "```\n",
    "Σ(xᵢ - x̄)² = (-2)² + (2)² + (0)² + (4)² + (-4)²\n",
    "            = 4 + 4 + 0 + 16 + 16\n",
    "            = 40\n",
    "```\n",
    "\n",
    "**Step 5**: Calculate variance with df = n - 1\n",
    "```\n",
    "s² = 40 / (5 - 1) = 40 / 4 = 10\n",
    "```\n",
    "\n",
    "If we had incorrectly used n instead of (n - 1):\n",
    "```\n",
    "Incorrect: 40 / 5 = 8 (biased estimator)\n",
    "```\n",
    "\n",
    "## Key takeaways\n",
    "\n",
    "1. **Degrees of Freedom** = Number of independent pieces of information\n",
    "   - df = n - k\n",
    "   - n = number of observations\n",
    "   - k = number of constraints or parameters estimated\n",
    "\n",
    "2. **Using n when you should use (n - 1)**\n",
    "   - Leads to underestimating variance\n",
    "   - Creates biased estimators\n"
   ]
  },
  {
   "cell_type": "markdown",
   "id": "a06a1a07",
   "metadata": {},
   "source": [
    "---"
   ]
  },
  {
   "cell_type": "markdown",
   "id": "dc3644b9",
   "metadata": {},
   "source": [
    "## Lets Continue with Experiments..\n",
    "\n",
    "- **The measurement of our ATE**: estimating causal quantities from sample data.\n",
    "- **Interpreting our ATE**: How do we map from the quantities that we estimate to the quantities we care about? How do we assess confidence in the estimated causal quantities.\n",
    "- Implications of relaxing the SUTVA and perfect compliance assumptions.\n",
    "- Potential pitfalls of RCTs."
   ]
  },
  {
   "cell_type": "markdown",
   "id": "d6ac09ea",
   "metadata": {},
   "source": [
    "The fundamental principle of randomization is straightforward:\n",
    "\n",
    "> When units are randomly assigned to a treatment, the only distinction between those receiving the treatment and those who do not is the treatment itself. Consequently, any observed differences between the two groups can be attributed solely to the treatment.\n",
    "\n",
    "Our objective is to estimate the **Average Treatment Effect (ATE)**, which measures the difference in outcomes between individuals who received a treatment and those who did not.\n",
    "\n",
    "To do this, we rely on two key assumptions: **perfect compliance** and **SUTVA**, which allows us to assert that the treatment, $S$, is **independent** of other factors, $U$, that could influence the outcome $Y$, leading to:\n",
    "\n",
    "$$\n",
    "ATE = \\mathbb{E}[Y(S=1, U) \\mid S=1] - \\mathbb{E}[Y(S=0, U) \\mid S=0].\n",
    "$$\n",
    "\n",
    "Let's apply these concepts to estimate the ATE on a case study:\n",
    "\n",
    "> the impact of a job training program ($S$), National Supported Work (NSW) Demonstration, on wages ($Y$).\n",
    "\n",
    "Participants were _randomly assigned_ to receive job training or not, which helped ensured independence from confounding factors.\n",
    "\n",
    "\n"
   ]
  },
  {
   "cell_type": "markdown",
   "id": "eb17c045",
   "metadata": {},
   "source": [
    "---"
   ]
  },
  {
   "cell_type": "markdown",
   "id": "3feaffbd",
   "metadata": {},
   "source": [
    "## Brief on the LaLonde (1986) Study\n",
    "\n",
    "**The Study:**\n",
    "- LaLonde (1986) \"Evaluating the Econometric Evaluations of Training Programs with Experimental Data,\" American Economic Review \n",
    "\n",
    "**The Program:**\n",
    "- National Supported Work (NSW) Demonstration (1975-1979): subsidized work program for ex-offenders, former drug addicts, long-term welfare recipients, and school dropouts \n",
    "\n",
    "**The Design:**\n",
    "- Randomly assigned applicants to job training program or control group \n",
    "- Sample: 185 treated, varying control group sizes; measured earnings in 1974, 1975, and 1978 (outcome) \n",
    "\n",
    "**The Innovation:**\n",
    "- Combined experimental data with observational data (PSID) to test if observational methods could replicate experimental results \n",
    "- Shocking finding: most observational methods failed badly, giving wrong estimates\n",
    "\n",
    "**Why It Matters:**\n",
    "- Demonstrated challenges of causal inference without randomization\n",
    "- Became canonical dataset for causal inference, inspiring multiple follow-up studies -- Heckman and Hotz (1989), Dehejia and Wahba (1999), Smith and Todd (2005), and Firpo (2007) \n",
    "- Helps understand RCTs and comparing methods"
   ]
  },
  {
   "cell_type": "markdown",
   "id": "36a6ea9a",
   "metadata": {},
   "source": [
    "## Our goal today \n",
    "\n",
    "+ Replicate the estimation conducted by LaLonde, who utilized data from the randomized evaluation to assess the program's effectiveness. For more detailed information about the study and data, refer resource: [LaLonde's Study](https://search.r-project.org/CRAN/refmans/designmatch/html/lalonde.html).\n"
   ]
  },
  {
   "cell_type": "markdown",
   "id": "63f20236",
   "metadata": {},
   "source": [
    "---"
   ]
  },
  {
   "cell_type": "code",
   "execution_count": 1,
   "id": "73467de2",
   "metadata": {},
   "outputs": [],
   "source": [
    "import pandas as pd\n",
    "import numpy as np\n",
    "import matplotlib.pyplot as plt\n",
    "import seaborn as sns\n",
    "import networkx as nx\n",
    "from matplotlib.patches import FancyArrowPatch\n",
    "from tabulate import tabulate\n",
    "from scipy import stats\n",
    "from statsmodels.formula.api import ols"
   ]
  },
  {
   "cell_type": "code",
   "execution_count": 2,
   "id": "2e7a6625",
   "metadata": {},
   "outputs": [],
   "source": [
    "url_base = '../data/nsw.dta'\n",
    "data = pd.read_stata(url_base)"
   ]
  },
  {
   "cell_type": "markdown",
   "id": "50de7be2",
   "metadata": {},
   "source": [
    "\n",
    "\n",
    "\n",
    "### Causal Model for the Impact of the Job Training Program on Wages\n",
    "\n",
    "Some key components of this causal model are:\n",
    "\n",
    "- **Treatment Indicator ($S$)**: A binary variable, denoted as $\\text{treat}$, which indicates whether an individual received job training (1) or not (0).\n",
    "\n",
    "- **Outcome ($Y$)**: The primary outcome of interest, represented as $\\text{re78}$, to indicate the annual wages of participants measured in the year 1978.\n",
    "\n",
    "- **Confounding Variables ($U$)**: Other factors that may affect wages include age, education, race, marital status, and degree.\n"
   ]
  },
  {
   "cell_type": "code",
   "execution_count": 3,
   "id": "bd00c1c3",
   "metadata": {},
   "outputs": [
    {
     "data": {
      "text/html": [
       "<div>\n",
       "<style scoped>\n",
       "    .dataframe tbody tr th:only-of-type {\n",
       "        vertical-align: middle;\n",
       "    }\n",
       "\n",
       "    .dataframe tbody tr th {\n",
       "        vertical-align: top;\n",
       "    }\n",
       "\n",
       "    .dataframe thead th {\n",
       "        text-align: right;\n",
       "    }\n",
       "</style>\n",
       "<table border=\"1\" class=\"dataframe\">\n",
       "  <thead>\n",
       "    <tr style=\"text-align: right;\">\n",
       "      <th></th>\n",
       "      <th>treat</th>\n",
       "      <th>age</th>\n",
       "      <th>education</th>\n",
       "      <th>black</th>\n",
       "      <th>hispanic</th>\n",
       "      <th>married</th>\n",
       "      <th>nodegree</th>\n",
       "      <th>re75</th>\n",
       "      <th>re78</th>\n",
       "    </tr>\n",
       "  </thead>\n",
       "  <tbody>\n",
       "    <tr>\n",
       "      <th>count</th>\n",
       "      <td>722.000000</td>\n",
       "      <td>722.000000</td>\n",
       "      <td>722.000000</td>\n",
       "      <td>722.000000</td>\n",
       "      <td>722.000000</td>\n",
       "      <td>722.000000</td>\n",
       "      <td>722.000000</td>\n",
       "      <td>722.000000</td>\n",
       "      <td>722.000000</td>\n",
       "    </tr>\n",
       "    <tr>\n",
       "      <th>mean</th>\n",
       "      <td>0.411357</td>\n",
       "      <td>24.520776</td>\n",
       "      <td>10.267313</td>\n",
       "      <td>0.800554</td>\n",
       "      <td>0.105263</td>\n",
       "      <td>0.162050</td>\n",
       "      <td>0.779778</td>\n",
       "      <td>3042.896484</td>\n",
       "      <td>5454.635742</td>\n",
       "    </tr>\n",
       "    <tr>\n",
       "      <th>std</th>\n",
       "      <td>0.492421</td>\n",
       "      <td>6.625947</td>\n",
       "      <td>1.704774</td>\n",
       "      <td>0.399861</td>\n",
       "      <td>0.307105</td>\n",
       "      <td>0.368752</td>\n",
       "      <td>0.414683</td>\n",
       "      <td>5066.143555</td>\n",
       "      <td>6252.943359</td>\n",
       "    </tr>\n",
       "    <tr>\n",
       "      <th>min</th>\n",
       "      <td>0.000000</td>\n",
       "      <td>17.000000</td>\n",
       "      <td>3.000000</td>\n",
       "      <td>0.000000</td>\n",
       "      <td>0.000000</td>\n",
       "      <td>0.000000</td>\n",
       "      <td>0.000000</td>\n",
       "      <td>0.000000</td>\n",
       "      <td>0.000000</td>\n",
       "    </tr>\n",
       "    <tr>\n",
       "      <th>25%</th>\n",
       "      <td>0.000000</td>\n",
       "      <td>19.000000</td>\n",
       "      <td>9.000000</td>\n",
       "      <td>1.000000</td>\n",
       "      <td>0.000000</td>\n",
       "      <td>0.000000</td>\n",
       "      <td>1.000000</td>\n",
       "      <td>0.000000</td>\n",
       "      <td>0.000000</td>\n",
       "    </tr>\n",
       "    <tr>\n",
       "      <th>50%</th>\n",
       "      <td>0.000000</td>\n",
       "      <td>23.000000</td>\n",
       "      <td>10.000000</td>\n",
       "      <td>1.000000</td>\n",
       "      <td>0.000000</td>\n",
       "      <td>0.000000</td>\n",
       "      <td>1.000000</td>\n",
       "      <td>936.307953</td>\n",
       "      <td>3951.889038</td>\n",
       "    </tr>\n",
       "    <tr>\n",
       "      <th>75%</th>\n",
       "      <td>1.000000</td>\n",
       "      <td>27.000000</td>\n",
       "      <td>11.000000</td>\n",
       "      <td>1.000000</td>\n",
       "      <td>0.000000</td>\n",
       "      <td>0.000000</td>\n",
       "      <td>1.000000</td>\n",
       "      <td>3993.206970</td>\n",
       "      <td>8772.004395</td>\n",
       "    </tr>\n",
       "    <tr>\n",
       "      <th>max</th>\n",
       "      <td>1.000000</td>\n",
       "      <td>55.000000</td>\n",
       "      <td>16.000000</td>\n",
       "      <td>1.000000</td>\n",
       "      <td>1.000000</td>\n",
       "      <td>1.000000</td>\n",
       "      <td>1.000000</td>\n",
       "      <td>37431.660156</td>\n",
       "      <td>60307.929688</td>\n",
       "    </tr>\n",
       "  </tbody>\n",
       "</table>\n",
       "</div>"
      ],
      "text/plain": [
       "            treat         age   education       black    hispanic     married  \\\n",
       "count  722.000000  722.000000  722.000000  722.000000  722.000000  722.000000   \n",
       "mean     0.411357   24.520776   10.267313    0.800554    0.105263    0.162050   \n",
       "std      0.492421    6.625947    1.704774    0.399861    0.307105    0.368752   \n",
       "min      0.000000   17.000000    3.000000    0.000000    0.000000    0.000000   \n",
       "25%      0.000000   19.000000    9.000000    1.000000    0.000000    0.000000   \n",
       "50%      0.000000   23.000000   10.000000    1.000000    0.000000    0.000000   \n",
       "75%      1.000000   27.000000   11.000000    1.000000    0.000000    0.000000   \n",
       "max      1.000000   55.000000   16.000000    1.000000    1.000000    1.000000   \n",
       "\n",
       "         nodegree          re75          re78  \n",
       "count  722.000000    722.000000    722.000000  \n",
       "mean     0.779778   3042.896484   5454.635742  \n",
       "std      0.414683   5066.143555   6252.943359  \n",
       "min      0.000000      0.000000      0.000000  \n",
       "25%      1.000000      0.000000      0.000000  \n",
       "50%      1.000000    936.307953   3951.889038  \n",
       "75%      1.000000   3993.206970   8772.004395  \n",
       "max      1.000000  37431.660156  60307.929688  "
      ]
     },
     "execution_count": 3,
     "metadata": {},
     "output_type": "execute_result"
    }
   ],
   "source": [
    "data.describe()"
   ]
  },
  {
   "cell_type": "markdown",
   "id": "311048f6",
   "metadata": {},
   "source": [
    "#### According to our data, the study included 722 participants, with 425 receiving the job training program."
   ]
  },
  {
   "cell_type": "code",
   "execution_count": 4,
   "id": "7b897e3f",
   "metadata": {},
   "outputs": [
    {
     "data": {
      "text/plain": [
       "0    425\n",
       "1    297\n",
       "Name: treat, dtype: int64"
      ]
     },
     "execution_count": 4,
     "metadata": {},
     "output_type": "execute_result"
    }
   ],
   "source": [
    "data['treat'].value_counts()"
   ]
  },
  {
   "cell_type": "markdown",
   "id": "7fe2759a",
   "metadata": {},
   "source": [
    "### 2.2) $\\hat{ATE}$?"
   ]
  },
  {
   "cell_type": "markdown",
   "id": "1392de31",
   "metadata": {},
   "source": [
    "To estimate the ATE from data, we calculate the **conditional sample means**:\n",
    "\n",
    "$$\n",
    "\\hat{ATE} = \\mathbb{\\hat{E}}[Y(1, \\hat{U}) \\mid S = 1] - \\mathbb{\\hat{E}}[Y(0, \\hat{U}) \\mid S = 0].\n",
    "$$\n",
    "\n",
    "Since these sample means are **consistent** and **unbiased**, our estimate of the ATE is robust and reliable.\n",
    "\n",
    "Therefore, to estimate the ATE of the job training program ($S$) on wages ($Y$), we would simply:"
   ]
  },
  {
   "cell_type": "code",
   "execution_count": 5,
   "id": "49c09032",
   "metadata": {},
   "outputs": [
    {
     "name": "stdout",
     "output_type": "stream",
     "text": [
      "Estimated ATE (Difference in Means): 886.30\n"
     ]
    }
   ],
   "source": [
    "# Conditional samples means for treated and control groups\n",
    "mean_treated = data[data['treat']==1]['re78'].mean()\n",
    "mean_control = data[data['treat']==0]['re78'].mean()\n",
    "# ATE as the difference in conditional means\n",
    "ate = mean_treated - mean_control\n",
    "print(f\"Estimated ATE (Difference in Means): {ate:.2f}\")"
   ]
  },
  {
   "cell_type": "markdown",
   "id": "01996438",
   "metadata": {},
   "source": [
    "This implies, that, on average, individuals who received the job training program earned $886.30$ than those who did not receive the training. **How confident are we on these results?**"
   ]
  },
  {
   "cell_type": "markdown",
   "id": "0e319429",
   "metadata": {},
   "source": [
    "### 2.3) How confidente are we on our $\\hat{ATE}$?"
   ]
  },
  {
   "cell_type": "markdown",
   "id": "daf07fce",
   "metadata": {},
   "source": [
    "\n",
    "This is only an estimate of the ATE, and we cannot be certain it reflects the true value. Fortunately, the Central Limit Theorem (CLT) allows us to approximate the distribution of errors in the estimated conditional sample means."
   ]
  },
  {
   "cell_type": "markdown",
   "id": "e43ab331",
   "metadata": {},
   "source": [
    "#### Hypothesis Testing for the ATE\n",
    "\n",
    "To determine whether the work program has a positive impact on wages, our hypothesis is as follows:\n",
    "\n",
    "- **Null Hypothesis ($H_0$)**:\n",
    "$$\\mathbb{E}[Y(S = 1, U)] = \\mathbb{E}[Y(S = 0, U)] \\implies \\text{ATE}=0.$$\n",
    "\n",
    "\n",
    "- **Alternative Hypothesis ($H_1$)**: $$  \\mathbb{E}[Y(S = 1, U)] >  \\mathbb{E}[Y(S = 0, U)] \\implies \\text{ATE}>0.$$\n"
   ]
  },
  {
   "cell_type": "markdown",
   "id": "700598cd",
   "metadata": {},
   "source": [
    "Notice that we’re doing a one-sided test!"
   ]
  },
  {
   "cell_type": "code",
   "execution_count": 6,
   "id": "b299d394",
   "metadata": {},
   "outputs": [
    {
     "data": {
      "text/plain": [
       "Ttest_indResult(statistic=1.815435269680496, pvalue=0.03499729558570174)"
      ]
     },
     "execution_count": 6,
     "metadata": {},
     "output_type": "execute_result"
    }
   ],
   "source": [
    "income_treate = data[data['treat']==1].re78\n",
    "income_contro = data[data['treat']==0].re78\n",
    "\n",
    "stats.ttest_ind(\n",
    "    income_treate,\n",
    "    income_contro,\n",
    "    alternative='greater',\n",
    "    equal_var=False\n",
    "    )"
   ]
  },
  {
   "cell_type": "markdown",
   "id": "97cd836c",
   "metadata": {},
   "source": [
    "Since the p-value is approximately 0.035, which is less than the common significance level of 0.05, we reject the null hypothesis. This implies that there is statistically significant evidence to support the claim that the mean income of the treated group is greater than that of the control group."
   ]
  },
  {
   "cell_type": "markdown",
   "id": "d2866fc7",
   "metadata": {},
   "source": [
    "### 2.4) Testing our Assumptions"
   ]
  },
  {
   "cell_type": "markdown",
   "id": "b6888ecb",
   "metadata": {},
   "source": [
    "So far we have relied on a crucial assumption: $$S \\perp\\!\\!\\!\\perp U.$$\n",
    "\n",
    "This assumption is supported by:\n",
    "\n",
    "**a) perfect compliance**, our assumption that all participants adhere to their assigned treatments, and"
   ]
  },
  {
   "cell_type": "code",
   "execution_count": 7,
   "id": "95ef1030",
   "metadata": {},
   "outputs": [
    {
     "data": {
      "image/png": "[encoded data removed]",
      "text/plain": [
       "<Figure size 864x288 with 1 Axes>"
      ]
     },
     "metadata": {},
     "output_type": "display_data"
    }
   ],
   "source": [
    "def draw_causal_diagram():\n",
    "    # Create directed graph\n",
    "    G = nx.DiGraph()\n",
    "    \n",
    "    # Add edges (this automatically creates nodes)\n",
    "    G.add_edge(\"Z\", \"S\")\n",
    "    G.add_edge(\"S\", \"Y\")\n",
    "    \n",
    "    # Layout: left to right\n",
    "    pos = {\"Z\": (0, 0.5), \"S\": (1, 0.5), \"Y\": (2, 0.5)}\n",
    "    \n",
    "    # Create figure\n",
    "    plt.figure(figsize=(12, 4))\n",
    "    \n",
    "    # Draw nodes\n",
    "    nx.draw_networkx_nodes(G, pos, node_color='lightblue',\n",
    "                          node_size=4000, node_shape='o')\n",
    "    \n",
    "    # Draw edges with VISIBLE arrowheads\n",
    "    nx.draw_networkx_edges(G, pos, edge_color='gray',\n",
    "                          arrows=True, \n",
    "                          arrowsize=30,\n",
    "                          arrowstyle='-|>',  # Changed for better visibility\n",
    "                          width=2.5,  # Slightly thicker\n",
    "                          connectionstyle='arc3,rad=0',\n",
    "                          node_size=4000,  # Added to create margin\n",
    "                          min_source_margin=15,  # Space from source node\n",
    "                          min_target_margin=15)  # Space to target node\n",
    "    \n",
    "    # Node labels\n",
    "    labels = {\n",
    "        \"Z\": \"Z:\\nAssignment\",\n",
    "        \"S\": \"S:\\nTreatment\\nReceived\",\n",
    "        \"Y\": \"Y:\\nOutcome\"\n",
    "    }\n",
    "    nx.draw_networkx_labels(G, pos, labels, font_size=12, font_weight='bold')\n",
    "    \n",
    "    # Edge labels\n",
    "    edge_labels = {\n",
    "        (\"Z\", \"S\"): \"Compliance\",\n",
    "        (\"S\", \"Y\"): \"Treatment Effect\"\n",
    "    }\n",
    "    nx.draw_networkx_edge_labels(G, pos, edge_labels,\n",
    "                                 font_size=10, label_pos=0.5)\n",
    "    \n",
    "    plt.axis('off')\n",
    "    plt.xlim(-0.3, 2.3)  # Added for better spacing\n",
    "    plt.ylim(0, 1)  # Added for better spacing\n",
    "    plt.tight_layout()\n",
    "    plt.show()\n",
    "\n",
    "# Call the function\n",
    "draw_causal_diagram()"
   ]
  },
  {
   "cell_type": "markdown",
   "id": "26a744a8",
   "metadata": {},
   "source": [
    "\n",
    "**b) stable unit treatment value assumption (SUTVA)**, which ensures that potential outcomes for each participant are unaffected by the treatment assignments of others.\n",
    "\n",
    "Together, these principles are essential for obtaining valid and unbiased estimates of the ATE. **Can we test these assumptions?**"
   ]
  },
  {
   "cell_type": "markdown",
   "id": "541aa0cb",
   "metadata": {},
   "source": [
    "**Testing for these assumptions in a RCT is hard!** Some effective methods researchers use to assess these assumptions are:\n",
    "+ direct monitoring: self-reports or observation.\n",
    "+ biomarkers or biological test"
   ]
  },
  {
   "cell_type": "markdown",
   "id": "0698462b",
   "metadata": {},
   "source": [
    "## $S \\perp\\!\\!\\!\\perp U$\n",
    "\n",
    "Independence between $S$ and $U$ implies that the distribution of potential outcomes $Y$ given treatment status is the same across groups:\n",
    "\n",
    "$$\n",
    "P(Y \\mid S=1, U) = P(Y \\mid S=0, U).\n",
    "$$\n",
    "\n",
    "A crucial implication of this independence is that the treatment and control groups should exhibit similarity in their characteristics:\n",
    "\n",
    "$$\n",
    "P(U \\mid S=1) = P(U \\mid S=0).\n",
    "$$\n",
    "\n",
    "Thus, any observed differences in outcomes can be attributed to the treatment $S$, rather than confounding factors $U $."
   ]
  },
  {
   "cell_type": "markdown",
   "id": "28977371",
   "metadata": {},
   "source": [
    "To assess this, we can compare the observable characteristics of the treatment and control groups. A first step is to visually examine the observable characteristics of both groups in the experiment."
   ]
  },
  {
   "cell_type": "code",
   "execution_count": 8,
   "id": "99f5b0d0",
   "metadata": {},
   "outputs": [
    {
     "data": {
      "image/png": "[encoded data removed]",
      "text/plain": [
       "<Figure size 504x1728 with 6 Axes>"
      ]
     },
     "metadata": {},
     "output_type": "display_data"
    }
   ],
   "source": [
    "continuous_covariates = ['age', 'education']\n",
    "dummy_covariates = ['black', 'hispanic', 'married', 'nodegree']\n",
    "covariates = continuous_covariates + dummy_covariates\n",
    "\n",
    "sns.set(style='whitegrid', palette='deep')\n",
    "total_covariates = len(continuous_covariates) + len(dummy_covariates)\n",
    "fig, axes = plt.subplots(nrows=total_covariates, ncols=1, figsize=(7, total_covariates * 4))\n",
    "\n",
    "for i, var in enumerate(continuous_covariates):\n",
    "    sns.kdeplot(data[data['treat'] == 0][var], ax=axes[i], label=\"Control\", fill=True, color='blue')\n",
    "    sns.kdeplot(data[data['treat'] == 1][var], ax=axes[i], label=\"Treatment\", fill=True, color='orange')\n",
    "    axes[i].set_title(f'Distribution of {var.capitalize()} by Treatment Group', fontsize=12)\n",
    "    axes[i].set_xlabel(var.capitalize(), fontsize=10)\n",
    "    axes[i].set_ylabel('Density', fontsize=10)\n",
    "    axes[i].legend(fontsize=10)\n",
    "    axes[i].grid(True, linestyle='--', alpha=0.1)\n",
    "    plt.xticks(fontsize=10)\n",
    "    plt.yticks(fontsize=10)\n",
    "\n",
    "for j, var in enumerate(dummy_covariates, start=len(continuous_covariates)):\n",
    "    proportions = data.groupby('treat')[var].mean().reset_index()\n",
    "    sns.barplot(\n",
    "        x='treat',\n",
    "        y=var, data=proportions, ax=axes[j],\n",
    "        hue='treat', dodge=False,\n",
    "        palette=['blue', 'orange'], linewidth=0.8, alpha=0.5\n",
    "        )\n",
    "    axes[j].set_title(f'Proportion of {var.capitalize()} by Treatment Group', fontsize=12)\n",
    "    axes[j].set_xlabel('Treatment Group', fontsize=10)\n",
    "    axes[j].set_ylabel('Proportion', fontsize=10)\n",
    "    axes[j].set_ylim(0, 1)\n",
    "    axes[j].grid(True, linestyle='--', alpha=0.1)\n",
    "    plt.xticks(fontsize=10)\n",
    "    plt.yticks(fontsize=10)\n",
    "\n",
    "plt.tight_layout()\n",
    "plt.show()\n"
   ]
  },
  {
   "cell_type": "markdown",
   "id": "51d332fc",
   "metadata": {},
   "source": [
    "Inspecting the distributions of key variables (e.g., age, marital status, education level, etc.) reveals that the distributions for both the treatment and control groups have similar shapes, signaling that the groups are well-balanced in terms of observable characteristics."
   ]
  },
  {
   "cell_type": "markdown",
   "id": "8b5703c1",
   "metadata": {},
   "source": [
    "Next, we can formally test that our groups are indeed \"well balanced\" by conducting a **balance test**! This test compares the distributions of an observable covariate $X$ between the treatment group $S = 1$ and the control group $S = 0$.\n",
    "\n",
    "Our balance test is a two-sample t-test to determine whether the difference in means is statistically significant:\n",
    "$$ H_0: \\mathbb{E}(X | S = 1) = \\mathbb{E}(X | S = 0), \\quad H_a: \\mathbb{E}(X | S = 1) \\neq \\mathbb{E}(X | S = 0)\n",
    "$$\n",
    "\n",
    "+ $H_0$ states that there is no difference in the means of the observable covariate between the treatment and control groups.\n",
    "+ $H_a$ states that there is a difference in means.\n",
    "\n",
    "\n",
    "We conclude that $S \\perp U$ if the means of the observables are not statistically significantly different.\n",
    "\n",
    "Let's see how this test can be conducted using the Lalonde experiment:"
   ]
  },
  {
   "cell_type": "code",
   "execution_count": 9,
   "id": "87ac5b44",
   "metadata": {},
   "outputs": [],
   "source": [
    "balance_results = []\n",
    "for var in covariates:\n",
    "    control_group = data[data['treat'] == 0][var]\n",
    "    treatment_group = data[data['treat'] == 1][var]\n",
    "    control_mean, control_std = control_group.mean(), control_group.std()\n",
    "    treatment_mean, treatment_std = treatment_group.mean(), treatment_group.std()\n",
    "    t_stat, p_value = stats.ttest_ind(control_group, treatment_group, equal_var=False)\n",
    "    pooled_std = np.sqrt((control_std ** 2 + treatment_std ** 2) / 2)\n",
    "    smd = (treatment_mean - control_mean) / pooled_std\n",
    "    balance_results.append({\n",
    "        'Variable': var,\n",
    "        'Control Mean (SD)': f'{control_mean:.2f} ({control_std:.2f})',\n",
    "        'Treatment Mean (SD)': f'{treatment_mean:.2f} ({treatment_std:.2f})',\n",
    "        'SMD': smd,\n",
    "        'P-Value': p_value\n",
    "    })\n",
    "balance_table = pd.DataFrame(balance_results)"
   ]
  },
  {
   "cell_type": "markdown",
   "id": "531a987a",
   "metadata": {},
   "source": [
    " Notice we compare the mean values of each covariate between the control and treatment groups using a t-test to evaluate the null hypothesis. If the p-value exceeds the significance level (e.g., $\\alpha = 0.05$), we fail to reject the null hypothesis, suggesting that the means are not significantly different."
   ]
  },
  {
   "cell_type": "code",
   "execution_count": 10,
   "id": "95d4e528",
   "metadata": {},
   "outputs": [
    {
     "data": {
      "text/html": [
       "<div>\n",
       "<style scoped>\n",
       "    .dataframe tbody tr th:only-of-type {\n",
       "        vertical-align: middle;\n",
       "    }\n",
       "\n",
       "    .dataframe tbody tr th {\n",
       "        vertical-align: top;\n",
       "    }\n",
       "\n",
       "    .dataframe thead th {\n",
       "        text-align: right;\n",
       "    }\n",
       "</style>\n",
       "<table border=\"1\" class=\"dataframe\">\n",
       "  <thead>\n",
       "    <tr style=\"text-align: right;\">\n",
       "      <th></th>\n",
       "      <th>Variable</th>\n",
       "      <th>Control Mean (SD)</th>\n",
       "      <th>Treatment Mean (SD)</th>\n",
       "      <th>SMD</th>\n",
       "      <th>P-Value</th>\n",
       "    </tr>\n",
       "  </thead>\n",
       "  <tbody>\n",
       "    <tr>\n",
       "      <th>0</th>\n",
       "      <td>age</td>\n",
       "      <td>24.45 (6.59)</td>\n",
       "      <td>24.63 (6.69)</td>\n",
       "      <td>0.026995</td>\n",
       "      <td>0.721607</td>\n",
       "    </tr>\n",
       "    <tr>\n",
       "      <th>1</th>\n",
       "      <td>education</td>\n",
       "      <td>10.19 (1.62)</td>\n",
       "      <td>10.38 (1.82)</td>\n",
       "      <td>0.111695</td>\n",
       "      <td>0.144283</td>\n",
       "    </tr>\n",
       "    <tr>\n",
       "      <th>2</th>\n",
       "      <td>black</td>\n",
       "      <td>0.80 (0.40)</td>\n",
       "      <td>0.80 (0.40)</td>\n",
       "      <td>0.003366</td>\n",
       "      <td>0.964504</td>\n",
       "    </tr>\n",
       "    <tr>\n",
       "      <th>3</th>\n",
       "      <td>hispanic</td>\n",
       "      <td>0.11 (0.32)</td>\n",
       "      <td>0.09 (0.29)</td>\n",
       "      <td>-0.061189</td>\n",
       "      <td>0.415479</td>\n",
       "    </tr>\n",
       "    <tr>\n",
       "      <th>4</th>\n",
       "      <td>married</td>\n",
       "      <td>0.16 (0.36)</td>\n",
       "      <td>0.17 (0.37)</td>\n",
       "      <td>0.028938</td>\n",
       "      <td>0.702799</td>\n",
       "    </tr>\n",
       "    <tr>\n",
       "      <th>5</th>\n",
       "      <td>nodegree</td>\n",
       "      <td>0.81 (0.39)</td>\n",
       "      <td>0.73 (0.44)</td>\n",
       "      <td>-0.199791</td>\n",
       "      <td>0.009247</td>\n",
       "    </tr>\n",
       "  </tbody>\n",
       "</table>\n",
       "</div>"
      ],
      "text/plain": [
       "    Variable Control Mean (SD) Treatment Mean (SD)       SMD   P-Value\n",
       "0        age      24.45 (6.59)        24.63 (6.69)  0.026995  0.721607\n",
       "1  education      10.19 (1.62)        10.38 (1.82)  0.111695  0.144283\n",
       "2      black       0.80 (0.40)         0.80 (0.40)  0.003366  0.964504\n",
       "3   hispanic       0.11 (0.32)         0.09 (0.29) -0.061189  0.415479\n",
       "4    married       0.16 (0.36)         0.17 (0.37)  0.028938  0.702799\n",
       "5   nodegree       0.81 (0.39)         0.73 (0.44) -0.199791  0.009247"
      ]
     },
     "execution_count": 10,
     "metadata": {},
     "output_type": "execute_result"
    }
   ],
   "source": [
    "balance_table"
   ]
  },
  {
   "cell_type": "markdown",
   "id": "4d6bfc5b",
   "metadata": {},
   "source": [
    "> **How do we interpret this balance table?**\n",
    "\n",
    "Balance tables help us verify that randomization worked—treatment and control groups should look similar on pre-treatment characteristics. If they don't, it suggests either:\n",
    "- Randomization failed (implementation problem)\n",
    "- Bad luck with small samples\n",
    "- Selection bias crept in somehow\n",
    "\n",
    "Let's examine the age variable as an example:"
   ]
  },
  {
   "cell_type": "markdown",
   "id": "327df83d",
   "metadata": {},
   "source": [
    "\n",
    "#### Consider the first t-test, where $X=age$:\n",
    "  - An SMD (Standardized Mean Difference) of **0.027** indicates that the difference between groups is very small—only 0.027 standard deviations. \n",
    "  - **Rule of thumb:** SMD < 0.1 indicates excellent balance\n",
    "  - SMD between 0.1-0.2 is acceptable\n",
    "  - SMD > 0.2 suggests potential imbalance"
   ]
  },
  {
   "cell_type": "markdown",
   "id": "7fb68f73",
   "metadata": {},
   "source": [
    "- The p-value of **0.722** tells us: \"If randomization worked perfectly, we'd see differences this large or larger about 72% of the time just by chance.\"\n",
    "- Since p > 0.05, we have no evidence that randomization failed for this variable.\n",
    "- **Important:** We're actually HOPING for high p-values in balance tests (unlike typical hypothesis tests)!"
   ]
  },
  {
   "cell_type": "markdown",
   "id": "977dbe39",
   "metadata": {},
   "source": [
    "We can further visualize the SMD through a plot:"
   ]
  },
  {
   "cell_type": "code",
   "execution_count": 11,
   "id": "729c2e19",
   "metadata": {},
   "outputs": [
    {
     "data": {
      "image/png": "[encoded data removed]",
      "text/plain": [
       "<Figure size 576x432 with 1 Axes>"
      ]
     },
     "metadata": {},
     "output_type": "display_data"
    }
   ],
   "source": [
    "sns.set(style='whitegrid', palette='deep')\n",
    "smd_df = balance_table[['Variable', 'SMD']].rename(columns={'Variable': 'Covariate'})\n",
    "plt.figure(figsize=(8, 6))\n",
    "sns.barplot(x='SMD', y='Covariate', data=smd_df, color='gray', alpha=0.3, edgecolor='blue')\n",
    "plt.axvline(x=0.1, color='blue', linestyle='--', label='Threshold (0.1)')\n",
    "plt.axvline(x=-0.1, color='blue', linestyle='--')\n",
    "plt.xlabel('Standardized Mean Difference (SMD)')\n",
    "plt.ylabel('Covariate')\n",
    "plt.title('Balance of Covariates')\n",
    "plt.legend()\n",
    "plt.tight_layout()\n",
    "plt.show()"
   ]
  },
  {
   "cell_type": "markdown",
   "id": "3b0bba47",
   "metadata": {},
   "source": [
    "> **How do we interpret this balance plot?**\n",
    "\n",
    "The above plot (also called a covariate balance plot) shows the standardized mean difference (SMD) between treatment and control groups for each pre-treatment variable. The vertical dashed lines at ±0.1 represent our threshold for acceptable balance.\n",
    "\n",
    "**What we're looking for:**\n",
    "- Confidence intervals (gray boxes) should be **centered near zero**\n",
    "- Boxes should **stay within the ±0.1 threshold**\n",
    "- Narrow boxes indicate **precise estimates** (larger sample sizes help)\n",
    "\n",
    "**For the NSW study:**\n",
    "\n",
    "**Variables with good balance (SMD < 0.1):**\n",
    "- **age:** Essentially identical between groups (~0.027 SMD)\n",
    "- **black:** Well-balanced, confidence interval includes zero\n",
    "- **married:** Small difference, but acceptable\n",
    "\n",
    "**Variables with potential imbalance:**\n",
    "- **education:** SMD extends beyond 0.1 threshold - treatment group may have slightly more education\n",
    "- **hispanic:** Confidence interval extends below -0.1 - some imbalance\n",
    "- **nodegree:** Substantial imbalance - control group may have more individuals without degrees\n",
    "\n",
    "**What does this mean?**\n",
    "\n",
    "Despite randomization, we see some imbalance on education-related variables. This could happen by chance (especially with modest sample sizes) or suggest:\n",
    "1. Differential attrition after randomization\n",
    "2. Implementation issues in the randomization process\n",
    "3. Just bad luck (with many tests, some imbalance is expected)\n",
    "\n",
    "**Should we be concerned?**\n",
    "- The imbalances are moderate, not extreme\n",
    "- We can control for these variables in our analysis to improve precision\n",
    "- Randomization validity doesn't require perfect balance, just balance in expectation\n",
    "- Overall pattern suggests randomization worked reasonably well\n",
    "\n",
    "**Bottom line:** While not perfect, this balance check shows that treatment and control groups are similar on most characteristics, supporting the validity of our causal estimates."
   ]
  },
  {
   "cell_type": "markdown",
   "id": "2a3f87a4",
   "metadata": {},
   "source": [
    "---"
   ]
  },
  {
   "cell_type": "markdown",
   "id": "eeec04fa",
   "metadata": {},
   "source": [
    "## Relaxing Assumptions: Imperfect Compliance and SUTVA Violations"
   ]
  },
  {
   "cell_type": "markdown",
   "id": "c1095839",
   "metadata": {},
   "source": [
    "**What if we relaxed our assumptions of perfect compliance and SUTVA? When and why might these violations occur?**\n",
    "\n",
    "+ Imperfect compliance can occur due to non-adherence, cross-over, dropouts, or other practical challenges in real-world implementation.\n",
    "\n",
    "+ SUTVA violations may arise from interference between participants, different versions of the treatment, or external contamination of the control group.\n",
    "\n",
    "Such violations complicate causal effect estimation, potentially shifting our target parameters or requiring alternative techniques to adjust for these issues."
   ]
  },
  {
   "cell_type": "markdown",
   "id": "96fd7fed",
   "metadata": {},
   "source": [
    "### Imperfect Compliance\n",
    "Perfect compliance is rarely observed in real-world scenarios, making it reasonable to assume imperfect compliance. This means that not all individuals adhere to their assigned treatment ($S$), which can introduce bias when estimating the causal effect."
   ]
  },
  {
   "cell_type": "code",
   "execution_count": 12,
   "id": "1c7f5a4b",
   "metadata": {},
   "outputs": [
    {
     "data": {
      "image/png": "[encoded data removed]",
      "text/plain": [
       "<Figure size 1008x288 with 2 Axes>"
      ]
     },
     "metadata": {},
     "output_type": "display_data"
    }
   ],
   "source": [
    "\n",
    "\n",
    "def draw_compliance_diagrams():\n",
    "    fig, (ax1, ax2) = plt.subplots(1, 2, figsize=(14, 4))\n",
    "    \n",
    "    # ===== PERFECT COMPLIANCE =====\n",
    "    G_perfect = nx.DiGraph()\n",
    "    G_perfect.add_edge(\"Z\", \"S\")\n",
    "    G_perfect.add_edge(\"S\", \"Y\")\n",
    "    \n",
    "    pos_perfect = {\"Z\": (0, 0.5), \"S\": (1, 0.5), \"Y\": (2, 0.5)}\n",
    "    \n",
    "    ax1.set_title(\"Perfect Compliance\", fontsize=14, fontweight='bold')\n",
    "    nx.draw_networkx_nodes(G_perfect, pos_perfect, node_color='lightblue', \n",
    "                          node_size=3500, node_shape='o', ax=ax1)\n",
    "    \n",
    "    # Draw edges with visible arrowheads\n",
    "    nx.draw_networkx_edges(G_perfect, pos_perfect, edge_color='gray', \n",
    "                          arrows=True, arrowsize=30, arrowstyle='-|>', \n",
    "                          width=2.5, ax=ax1, node_size=3500,\n",
    "                          connectionstyle='arc3,rad=0', min_source_margin=15, \n",
    "                          min_target_margin=15)\n",
    "    \n",
    "    labels_perfect = {\n",
    "        \"Z\": \"Z:\\nAssignment\",\n",
    "        \"S\": \"S:\\nTreatment\",\n",
    "        \"Y\": \"Y:\\nOutcome\"\n",
    "    }\n",
    "    nx.draw_networkx_labels(G_perfect, pos_perfect, labels_perfect, \n",
    "                           font_size=10, font_weight='bold', ax=ax1)\n",
    "    \n",
    "    edge_labels_perfect = {\n",
    "        (\"Z\", \"S\"): \"Perfect\\nCompliance\",\n",
    "        (\"S\", \"Y\"): \"Treatment\\nEffect\"\n",
    "    }\n",
    "    nx.draw_networkx_edge_labels(G_perfect, pos_perfect, edge_labels_perfect, \n",
    "                                 font_size=9, ax=ax1)\n",
    "    ax1.axis('off')\n",
    "    ax1.set_xlim(-0.3, 2.3)\n",
    "    ax1.set_ylim(0, 1)\n",
    "    \n",
    "    # ===== IMPERFECT COMPLIANCE =====\n",
    "    G_imperfect = nx.DiGraph()\n",
    "    G_imperfect.add_edge(\"Z\", \"S\")\n",
    "    G_imperfect.add_edge(\"S\", \"Y\")\n",
    "    G_imperfect.add_edge(\"U\", \"S\")\n",
    "    G_imperfect.add_edge(\"U\", \"Y\")\n",
    "    \n",
    "    pos_imperfect = {\n",
    "        \"Z\": (0, 0.5), \n",
    "        \"S\": (1, 0.5), \n",
    "        \"Y\": (2, 0.5),\n",
    "        \"U\": (1, 1.3)\n",
    "    }\n",
    "    \n",
    "    ax2.set_title(\"Imperfect Compliance\", fontsize=14, fontweight='bold')\n",
    "    \n",
    "    # Draw nodes with different colors\n",
    "    nx.draw_networkx_nodes(G_imperfect, pos_imperfect, \n",
    "                          nodelist=[\"Z\", \"S\", \"Y\"],\n",
    "                          node_color='lightblue', \n",
    "                          node_size=3500, node_shape='o', ax=ax2)\n",
    "    nx.draw_networkx_nodes(G_imperfect, pos_imperfect, \n",
    "                          nodelist=[\"U\"],\n",
    "                          node_color='lightcoral', \n",
    "                          node_size=3500, node_shape='o', ax=ax2)\n",
    "    \n",
    "    # Draw main edges (Z→S, S→Y) with visible arrowheads\n",
    "    nx.draw_networkx_edges(G_imperfect, pos_imperfect, \n",
    "                          edgelist=[(\"Z\", \"S\"), (\"S\", \"Y\")],\n",
    "                          edge_color='gray', \n",
    "                          arrows=True, arrowsize=30, arrowstyle='-|>', \n",
    "                          width=2.5, ax=ax2, node_size=3500,\n",
    "                          connectionstyle='arc3,rad=0', min_source_margin=15, \n",
    "                          min_target_margin=15)\n",
    "    \n",
    "    # Draw confounding edges (U→S, U→Y) with visible arrowheads in red\n",
    "    nx.draw_networkx_edges(G_imperfect, pos_imperfect, \n",
    "                          edgelist=[(\"U\", \"S\"), (\"U\", \"Y\")],\n",
    "                          edge_color='red', style='dashed',\n",
    "                          arrows=True, arrowsize=30, arrowstyle='-|>', \n",
    "                          width=2.5, ax=ax2, node_size=3500,\n",
    "                          connectionstyle='arc3,rad=0.1', min_source_margin=15, \n",
    "                          min_target_margin=15)\n",
    "    \n",
    "    labels_imperfect = {\n",
    "        \"Z\": \"Z:\\nAssignment\",\n",
    "        \"S\": \"S:\\nTreatment\",\n",
    "        \"Y\": \"Y:\\nOutcome\",\n",
    "        \"U\": \"U:\\nConfounder\"\n",
    "    }\n",
    "    nx.draw_networkx_labels(G_imperfect, pos_imperfect, labels_imperfect, \n",
    "                           font_size=10, font_weight='bold', ax=ax2)\n",
    "    \n",
    "    edge_labels_imperfect = {\n",
    "        (\"Z\", \"S\"): \"Imperfect\\nCompliance\",\n",
    "        (\"S\", \"Y\"): \"Treatment\\nEffect\"\n",
    "    }\n",
    "    nx.draw_networkx_edge_labels(G_imperfect, pos_imperfect, edge_labels_imperfect, \n",
    "                                 font_size=9, ax=ax2)\n",
    "    ax2.axis('off')\n",
    "    ax2.set_xlim(-0.3, 2.3)\n",
    "    ax2.set_ylim(0, 1.5)\n",
    "    \n",
    "    plt.tight_layout()\n",
    "    plt.show()\n",
    "\n",
    "# Draw both diagrams\n",
    "draw_compliance_diagrams()"
   ]
  },
  {
   "cell_type": "markdown",
   "id": "89c47a1c",
   "metadata": {},
   "source": [
    "To address imperfect compliance, we can employ several methods:\n",
    "\n",
    "- **Local Average Treatment Effect (LATE)**: Uses instrumental variable techniques to estimate causal effects among compliers (we will cover this later).\n",
    "- **Bounding Methods**: Establishes bounds on treatment effects when compliance is imperfect.\n",
    "- **Redefining the Target Parameter**: Adjusts the focus of the analysis to reflect the realities of non-compliance.\n",
    "\n",
    "For now, we will focus on redefining our parameter of interest from ATE to **Intention to Treat (ITT)**, which measures the causal effect of **being assigned** to treatment, regardless of whether the treatment was actually received."
   ]
  },
  {
   "cell_type": "markdown",
   "id": "e0be2eee",
   "metadata": {},
   "source": [
    "Let’s revisit the example we previously discussed regarding a job training program ($S$) and its impact on participants' wages ($Y$). Initially, we observed that **~59% of the individuals** received the job training program, while **~41% of the individuals did not**."
   ]
  },
  {
   "cell_type": "code",
   "execution_count": 13,
   "id": "cfb999c6",
   "metadata": {},
   "outputs": [
    {
     "data": {
      "text/plain": [
       "0    58.864266\n",
       "1    41.135734\n",
       "Name: treat, dtype: float64"
      ]
     },
     "execution_count": 13,
     "metadata": {},
     "output_type": "execute_result"
    }
   ],
   "source": [
    "data.treat.value_counts(normalize=True) * 100"
   ]
  },
  {
   "cell_type": "markdown",
   "id": "65fc9238",
   "metadata": {},
   "source": [
    "Imagine a twist in the narrative: **It is later revealed that the original design of the study assigned 50% of the sample to the treatment group.**\n",
    "\n",
    "However, we have recently observed that not all participants adhered to their assigned groups."
   ]
  },
  {
   "cell_type": "code",
   "execution_count": 14,
   "id": "6117fea4",
   "metadata": {},
   "outputs": [
    {
     "data": {
      "text/plain": [
       "assign  treat\n",
       "0.0     0        225\n",
       "1.0     0        200\n",
       "        1        161\n",
       "0.0     1        136\n",
       "dtype: int64"
      ]
     },
     "execution_count": 14,
     "metadata": {},
     "output_type": "execute_result"
    }
   ],
   "source": [
    "np.random.seed(42)\n",
    "desired_treatment_proportion = 0.5\n",
    "n = len(data)\n",
    "n_treatment_assigned = int(n * desired_treatment_proportion)\n",
    "assignment = np.zeros(n)\n",
    "assignment[:n_treatment_assigned] = 1\n",
    "np.random.shuffle(assignment)\n",
    "data['assign'] = assignment\n",
    "data[['assign', 'treat']].value_counts()"
   ]
  },
  {
   "cell_type": "markdown",
   "id": "db998981",
   "metadata": {},
   "source": [
    "This discrepancy raises significant questions about the validity of the study's findings and complicates the interpretation of the treatment's effectiveness! **What could we do**?"
   ]
  },
  {
   "cell_type": "markdown",
   "id": "85276e2b",
   "metadata": {},
   "source": [
    "**Why would non-compliance occur?**  More importantly, should we reconsider our target parameter? **Why?**"
   ]
  },
  {
   "cell_type": "markdown",
   "id": "9dbecfa7",
   "metadata": {},
   "source": [
    "Perhaps, it might be more appropiate to calculate the ITT (Intent To Treat) for the job training program, where:\n",
    "\n",
    "- $S_A = 1$ if an individual is assigned to receive the job training program (told to participate).\n",
    "- $S_A = 0$ if an individual is not assigned to receive the training.\n",
    "- $Y(S_A, U)$ represents the outcome variable, which in this case is the wage of participants one month after the assignment.\n",
    "- $U$ captures all other factors that influence wages.\n",
    "\n",
    "The ITT is defined as:\n",
    "\n",
    "$$\n",
    "ITT = \\mathbb{E}[Y(S_A = 1, U)] - \\mathbb{E}[Y(S_A = 0, U)].\n",
    "$$"
   ]
  },
  {
   "cell_type": "markdown",
   "id": "033d0035",
   "metadata": {},
   "source": [
    "**When should we use ITT instead of ATE?**\n",
    "\n",
    "**Use ITT when:**\n",
    "- Compliance is endogenous (people who comply might be different)\n",
    "- You want an unbiased estimate without additional assumptions\n",
    "\n",
    "**The NSW example:**\n",
    "If 20% of people assigned to training don't participate:\n",
    "- ITT estimates the effect of being assigned to training\n",
    "- This includes both: (1) the direct effect on those who train, and (2) the \"zero effect\" on no-shows\n",
    "- Result: ITT will be smaller than the true effect on the trained\n",
    "\n",
    "**To get from ITT to treatment effect on the treated, we need instrumental variables—which we'll cover next!**"
   ]
  },
  {
   "cell_type": "code",
   "execution_count": 15,
   "id": "ae524b94",
   "metadata": {},
   "outputs": [
    {
     "name": "stdout",
     "output_type": "stream",
     "text": [
      "Estimated ITT: 833.30\n"
     ]
    }
   ],
   "source": [
    "mean_itt_treated = data[data['assign'] == 1]['re78'].mean()\n",
    "mean_itt_control = data[data['assign'] == 0]['re78'].mean()\n",
    "itt = mean_itt_treated - mean_itt_control\n",
    "print(f\"Estimated ITT: {itt:.2f}\")"
   ]
  },
  {
   "cell_type": "markdown",
   "id": "779344de",
   "metadata": {},
   "source": [
    "This is the average effect **of being assigned** to the job training program on wages, while holding constant all other determinants captured by $U$. Would this approach be useful for policymakers assessing the program's potential benefits in a real-world setting?"
   ]
  },
  {
   "cell_type": "markdown",
   "id": "a89df4dc",
   "metadata": {},
   "source": [
    "### SUTVA violation"
   ]
  },
  {
   "cell_type": "markdown",
   "id": "7d378916",
   "metadata": {},
   "source": [
    "SUTVA implies two conditions:\n",
    "1. No interference between units.-  The treatment of one unit doesn't affect another unit.\n",
    "2. Consistency.- Each unit has a single potential outcome under each treatment condition.\n",
    "\n",
    "SUTVA violation occurs when the no interference assumption does not hold. This is known as a **spillover** effect, which means the\n",
    "\n",
    "> treatment effect _spills over_ to others who weren't treated.\n",
    "\n",
    "Spillovers make it hard to estimate the _pure effect_ of treatment because the control group may still be affected by the treatment due to interactions with treated units."
   ]
  },
  {
   "cell_type": "markdown",
   "id": "e39ee901",
   "metadata": {},
   "source": [
    "      T_1         T_2        T_3        T_4\n",
    "       |           |          |          |\n",
    "     Y_1 <-----  Y_2 <----- Y_3 ------ Y_4\n"
   ]
  },
  {
   "cell_type": "markdown",
   "id": "871ce7e2",
   "metadata": {},
   "source": [
    "\n",
    "Consider the graph above, where we have different treatment groups represented by $T_1, T_2, T_3, T_4$ and their corresponding outcomes represented by $Y_1, Y_2, Y_3, Y_4$.\n",
    "\n",
    "+ Notice the arrows in the graph indicate that the outcomes are interconnected in a way that violates the SUTVA assumption. This means we cannot cleanly separate treated and untreated outcomes, which complicates our estimates. **How do we handle spillovers?**\n"
   ]
  },
  {
   "cell_type": "markdown",
   "id": "7f07d05c",
   "metadata": {},
   "source": [
    "Suppose we are interested in understanding the impact of tutoring programs. Say we randomly assign some students to receive tutoring (the treatment). **Would we be able to identify  ATE?**\n",
    "\n",
    "This experiment would presumably fail! Why? Spillover effects are highly likely as knowledge gained by treated students could positively influence untreated peers due to peer interactions.\n",
    "\n",
    "**How could we manage spillover effects?** We can randomize entire classrooms or schools to either receive the tutoring intervention or not. Meaning, given that $S_G \\perp\\!\\!\\!\\perp U $, where $S_G$ denotes the group-level treatment and $ U$ represents unobserved confounders, we have:\n",
    "\n",
    "   $$\n",
    "   \\text{ATE}_G = \\mathbb{E}[Y_G(S_G = 1, U_G) | S_G = 1] - \\mathbb{E}[Y_G(S_G = 0, U_G) | S_G = 0],\n",
    "   $$\n",
    "\n",
    "   where $Y_G$ is the school-level outcome.\n",
    "   \n",
    "   This approach enables us to estimate the average treatment effect (ATE) at the group level by comparing outcomes between treated and untreated groups, capturing both the treatment and spillover effects."
   ]
  },
  {
   "cell_type": "code",
   "execution_count": 16,
   "id": "dfcdee0d",
   "metadata": {},
   "outputs": [],
   "source": [
    "np.random.seed(42)\n",
    "n_schools = 20\n",
    "students_per_school = 30\n",
    "school_ids = np.arange(n_schools)\n",
    "treatment_assignment = np.zeros(n_schools)\n",
    "num_treated = np.random.randint(10, 15)\n",
    "treated_schools = np.random.choice(school_ids, size=num_treated, replace=False)\n",
    "treatment_assignment[treated_schools] = 1\n",
    "school_data = pd.DataFrame({\n",
    "    'school_id': school_ids,\n",
    "    'treat': treatment_assignment\n",
    "})"
   ]
  },
  {
   "cell_type": "code",
   "execution_count": 17,
   "id": "56f6055b",
   "metadata": {},
   "outputs": [],
   "source": [
    "def simulate_group_outcome(treatment):\n",
    "    np.random.seed(42)\n",
    "    base_outcome = 50  # Base score\n",
    "    return base_outcome + treatment * np.random.normal(10, 5)  # Adding treatment effect"
   ]
  },
  {
   "cell_type": "code",
   "execution_count": 18,
   "id": "2b3f252e",
   "metadata": {},
   "outputs": [
    {
     "data": {
      "text/html": [
       "<div>\n",
       "<style scoped>\n",
       "    .dataframe tbody tr th:only-of-type {\n",
       "        vertical-align: middle;\n",
       "    }\n",
       "\n",
       "    .dataframe tbody tr th {\n",
       "        vertical-align: top;\n",
       "    }\n",
       "\n",
       "    .dataframe thead th {\n",
       "        text-align: right;\n",
       "    }\n",
       "</style>\n",
       "<table border=\"1\" class=\"dataframe\">\n",
       "  <thead>\n",
       "    <tr style=\"text-align: right;\">\n",
       "      <th></th>\n",
       "      <th>school_id</th>\n",
       "      <th>treat</th>\n",
       "      <th>mean_outcome</th>\n",
       "    </tr>\n",
       "  </thead>\n",
       "  <tbody>\n",
       "    <tr>\n",
       "      <th>0</th>\n",
       "      <td>0</td>\n",
       "      <td>1.0</td>\n",
       "      <td>62.483571</td>\n",
       "    </tr>\n",
       "    <tr>\n",
       "      <th>1</th>\n",
       "      <td>1</td>\n",
       "      <td>1.0</td>\n",
       "      <td>62.483571</td>\n",
       "    </tr>\n",
       "    <tr>\n",
       "      <th>2</th>\n",
       "      <td>2</td>\n",
       "      <td>0.0</td>\n",
       "      <td>50.000000</td>\n",
       "    </tr>\n",
       "    <tr>\n",
       "      <th>3</th>\n",
       "      <td>3</td>\n",
       "      <td>1.0</td>\n",
       "      <td>62.483571</td>\n",
       "    </tr>\n",
       "    <tr>\n",
       "      <th>4</th>\n",
       "      <td>4</td>\n",
       "      <td>1.0</td>\n",
       "      <td>62.483571</td>\n",
       "    </tr>\n",
       "    <tr>\n",
       "      <th>5</th>\n",
       "      <td>5</td>\n",
       "      <td>1.0</td>\n",
       "      <td>62.483571</td>\n",
       "    </tr>\n",
       "    <tr>\n",
       "      <th>6</th>\n",
       "      <td>6</td>\n",
       "      <td>0.0</td>\n",
       "      <td>50.000000</td>\n",
       "    </tr>\n",
       "    <tr>\n",
       "      <th>7</th>\n",
       "      <td>7</td>\n",
       "      <td>0.0</td>\n",
       "      <td>50.000000</td>\n",
       "    </tr>\n",
       "    <tr>\n",
       "      <th>8</th>\n",
       "      <td>8</td>\n",
       "      <td>1.0</td>\n",
       "      <td>62.483571</td>\n",
       "    </tr>\n",
       "    <tr>\n",
       "      <th>9</th>\n",
       "      <td>9</td>\n",
       "      <td>0.0</td>\n",
       "      <td>50.000000</td>\n",
       "    </tr>\n",
       "    <tr>\n",
       "      <th>10</th>\n",
       "      <td>10</td>\n",
       "      <td>0.0</td>\n",
       "      <td>50.000000</td>\n",
       "    </tr>\n",
       "    <tr>\n",
       "      <th>11</th>\n",
       "      <td>11</td>\n",
       "      <td>1.0</td>\n",
       "      <td>62.483571</td>\n",
       "    </tr>\n",
       "    <tr>\n",
       "      <th>12</th>\n",
       "      <td>12</td>\n",
       "      <td>1.0</td>\n",
       "      <td>62.483571</td>\n",
       "    </tr>\n",
       "    <tr>\n",
       "      <th>13</th>\n",
       "      <td>13</td>\n",
       "      <td>1.0</td>\n",
       "      <td>62.483571</td>\n",
       "    </tr>\n",
       "    <tr>\n",
       "      <th>14</th>\n",
       "      <td>14</td>\n",
       "      <td>0.0</td>\n",
       "      <td>50.000000</td>\n",
       "    </tr>\n",
       "    <tr>\n",
       "      <th>15</th>\n",
       "      <td>15</td>\n",
       "      <td>1.0</td>\n",
       "      <td>62.483571</td>\n",
       "    </tr>\n",
       "    <tr>\n",
       "      <th>16</th>\n",
       "      <td>16</td>\n",
       "      <td>0.0</td>\n",
       "      <td>50.000000</td>\n",
       "    </tr>\n",
       "    <tr>\n",
       "      <th>17</th>\n",
       "      <td>17</td>\n",
       "      <td>1.0</td>\n",
       "      <td>62.483571</td>\n",
       "    </tr>\n",
       "    <tr>\n",
       "      <th>18</th>\n",
       "      <td>18</td>\n",
       "      <td>1.0</td>\n",
       "      <td>62.483571</td>\n",
       "    </tr>\n",
       "    <tr>\n",
       "      <th>19</th>\n",
       "      <td>19</td>\n",
       "      <td>1.0</td>\n",
       "      <td>62.483571</td>\n",
       "    </tr>\n",
       "  </tbody>\n",
       "</table>\n",
       "</div>"
      ],
      "text/plain": [
       "    school_id  treat  mean_outcome\n",
       "0           0    1.0     62.483571\n",
       "1           1    1.0     62.483571\n",
       "2           2    0.0     50.000000\n",
       "3           3    1.0     62.483571\n",
       "4           4    1.0     62.483571\n",
       "5           5    1.0     62.483571\n",
       "6           6    0.0     50.000000\n",
       "7           7    0.0     50.000000\n",
       "8           8    1.0     62.483571\n",
       "9           9    0.0     50.000000\n",
       "10         10    0.0     50.000000\n",
       "11         11    1.0     62.483571\n",
       "12         12    1.0     62.483571\n",
       "13         13    1.0     62.483571\n",
       "14         14    0.0     50.000000\n",
       "15         15    1.0     62.483571\n",
       "16         16    0.0     50.000000\n",
       "17         17    1.0     62.483571\n",
       "18         18    1.0     62.483571\n",
       "19         19    1.0     62.483571"
      ]
     },
     "execution_count": 18,
     "metadata": {},
     "output_type": "execute_result"
    }
   ],
   "source": [
    "school_data['mean_outcome'] = school_data['treat'].apply(simulate_group_outcome)\n",
    "school_data"
   ]
  },
  {
   "cell_type": "code",
   "execution_count": 19,
   "id": "1db08eb2",
   "metadata": {},
   "outputs": [
    {
     "name": "stdout",
     "output_type": "stream",
     "text": [
      "Estimated ATE_g: 12.48\n"
     ]
    }
   ],
   "source": [
    "mean_ate_treated_g = school_data[school_data['treat'] == 1]['mean_outcome'].mean()\n",
    "mean_ate_control_g = school_data[school_data['treat'] == 0]['mean_outcome'].mean()\n",
    "ate_g = mean_ate_treated_g - mean_ate_control_g\n",
    "print(f\"Estimated ATE_g: {ate_g:.2f}\")"
   ]
  },
  {
   "cell_type": "markdown",
   "id": "62830541",
   "metadata": {},
   "source": [
    "\n",
    "Notice the contrast when assigning treatment at the individual level, where we estimate the ATE based on the differences in outcomes between individuals assigned to treatment and control.\n"
   ]
  },
  {
   "cell_type": "markdown",
   "id": "11359c5c",
   "metadata": {},
   "source": [
    "\n",
    "### RCTs: The Gold Standard? A Side Note on Their Limitations\n",
    "\n",
    "RCTs are often seen as the gold standard in research due to their high internal validity. However, they have significant limitations:\n",
    "\n",
    "- Ethical Concerns\n",
    "- Limited Generalizability\n",
    "- Attrition Bias\n",
    "- Variability in Implementation\n",
    "- Sample Size Issues\n",
    "- Cost and Time Constraints\n",
    "- Hawthorne Effect\n",
    "\n",
    "A key example is the debate over Miguel and Kremer's (2004) deworming study (reviews in class), which demonstrated strong effects on worm infections and school attendance.\n",
    "\n",
    "Critics have questioned the validity of Miguel and Kremer's (2004) findings, citing the Hawthorne effect, where participants' behavior may have been influenced simply by their awareness of being observed.\n",
    "\n"
   ]
  },
  {
   "cell_type": "markdown",
   "id": "2c1e69ec",
   "metadata": {},
   "source": [
    "---"
   ]
  },
  {
   "cell_type": "markdown",
   "id": "39b77c47",
   "metadata": {},
   "source": [
    "## Next Recitation \n",
    "\n",
    "+ Understand more methods for causal inference. "
   ]
  },
  {
   "cell_type": "markdown",
   "id": "ce5d15c3",
   "metadata": {},
   "source": [
    "---"
   ]
  },
  {
   "cell_type": "markdown",
   "id": "cd64ea76",
   "metadata": {},
   "source": [
    "\n",
    "\n",
    "**References:**\n",
    "\n",
    "\n",
    "+ Lalonde, R. J. (1986). *Evaluating the Econometric Evaluations of Training Programs with Experimental Data.* American Economic Review, 76(4), 604-620.\n",
    "\n",
    "+ Athey, S., Chetty, R., & Imbens, G. W. (2020). Combining Experimental and Observational Data to Estimate Treatment Effects on Long-Term Outcomes. [https://arxiv.org/pdf/2006.09676]\n",
    "\n",
    "+ Miguel, Edward and Michael Kremer. 2004. “Worms: Identifying Impacts on Education and Health in the Presence of Treatment Externalities.” Econometrica 72 (1): 159-217. https://www.jstor.org/stable/3598853.\n"
   ]
  },
  {
   "cell_type": "code",
   "execution_count": null,
   "id": "0ca22f5c",
   "metadata": {},
   "outputs": [],
   "source": []
  }
 ],
 "metadata": {
  "kernelspec": {
   "display_name": "FSA_with_python",
   "language": "python",
   "name": "python3"
  },
  "language_info": {
   "codemirror_mode": {
    "name": "ipython",
    "version": 3
   },
   "file_extension": ".py",
   "mimetype": "text/x-python",
   "name": "python",
   "nbconvert_exporter": "python",
   "pygments_lexer": "ipython3",
   "version": "3.8.5"
  }
 },
 "nbformat": 4,
 "nbformat_minor": 5
}

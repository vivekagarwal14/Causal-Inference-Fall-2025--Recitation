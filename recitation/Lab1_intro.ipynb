{
 "cells": [
  {
   "cell_type": "markdown",
   "id": "f366e3db",
   "metadata": {},
   "source": [
    "$$\n",
    "\\begin{array}{c}\n",
    "\\textbf{CAUSAL INFERENCE - Fall 2025}\\\\\\\\\n",
    "\\textit{Center for Data Science, New York University} \\\\\\\\\n",
    "\\textit{September 5, 2025}\\\\\\\\\\\n",
    "\\text{ Prepared by: Vivek Kumar Agarwal}\\\\\\\\\n",
    "\\textbf{Recitation 1: Introduction to Probability}\n",
    "\\end{array}\n",
    "$$"
   ]
  },
  {
   "cell_type": "markdown",
   "id": "94ce9a8c",
   "metadata": {},
   "source": [
    "# Introduction - (Based on Lec 1 \\& 2)\n",
    "\n",
    "![Causal Inference](../figures/CI_lab1_image1.png)"
   ]
  },
  {
   "cell_type": "markdown",
   "id": "1d80b89a",
   "metadata": {},
   "source": [
    "## Today's Recitation \n",
    "\n",
    "- Introductions and Reviews\n",
    "- Expectations from Recitations\n",
    "- Random variables, PMF, PDF, CDF, Expectation, Variance.\n",
    "- Descriptive vs Causal Questions\n",
    "- All Causes Model\n",
    "- Lets Code!!\n",
    "\n"
   ]
  },
  {
   "cell_type": "markdown",
   "id": "6d371966",
   "metadata": {},
   "source": [
    "## Desiderata\n",
    "\n",
    "+ Python installation instructions can be found [here](https://realpython.com/installing-python/).\n",
    "\n",
    "+ Jupyter installation instructions can be found [here](https://jupyter.org/install).\n",
    "\n",
    "+ For NYU's High Performance Computing ([NYU HPC](https://sites.google.com/nyu.edu/nyu-hpc)).\n",
    "\n",
    "+ May also use [Google Colab](https://colab.research.google.com/).\n",
    "\n",
    "\n"
   ]
  },
  {
   "cell_type": "markdown",
   "id": "87ecb9eb",
   "metadata": {},
   "source": [
    "#### Refresher on Random Variables\n",
    "\n",
    "#### What is a random variable?\n",
    "\n",
    "+ A random variable is a function that maps from a sample space to a set of real numbers.\n",
    "\n",
    "+ A random variable can be discrete or continuous.\n",
    "\n",
    "##### Discrete vs Continuous Random Variables\n",
    "\n",
    "+ A discrete random variable can take on a countable number of values. For example, the number of heads in 10 coin flips.\n",
    "\n",
    "    - The probability mass function (PMF) of a discrete random variable is the probability that the random variable takes on a particular value. For example, the probability that the number of heads in 10 coin flips is 5.\n",
    "\n",
    "    - The cumulative distribution function (CDF) of a discrete random variable is the probability that the random variable takes on a value less than or equal to a particular value. For example, the probability that the number of heads in 10 coin flips is less than or equal to 5.\n",
    "\n",
    "    - The expected value of a discrete random variable is the sum of the product of each value and its probability. For example, the expected number of heads in 10 coin flips is 5.\n",
    "\n",
    "    - The variance of a discrete random variable is the expected value of the squared difference between the random variable and its expected value. For example, the variance of the number of heads in 10 coin flips is 2.5.\n",
    "\n",
    "    - The standard deviation of a discrete random variable is the square root of the variance. For example, the standard deviation of the number of heads in 10 coin flips is 1.58.\n",
    "\n",
    "    - Some examples of distributions for discrete random variables are the binomial distribution, the Poisson distribution.\n",
    "\n",
    "+ A continuous random variable can take on an uncountable number of values. For example, the height of a person in a population.\n",
    "\n",
    "    - The probability density function (PDF) of a continuous random variable is the probability that the random variable takes on a value in a particular interval. For example, the probability that the height of a person in a population is between 5 and 6 feet.\n",
    "\n",
    "    - The cumulative distribution function (CDF) of a continuous random variable is the probability that the random variable takes on a value less than or equal to a particular value. For example, the probability that the height of a person in a population is less than or equal to 5 feet.\n",
    "\n",
    "    - The expected value of a continuous random variable is the integral of the product of the random variable and its probability density function. For example, the expected height of a person in a population is 5.5 feet.\n",
    "\n",
    "    - The variance of a continuous random variable is the expected value of the squared difference between the random variable and its expected value. For example, the variance of the height of a person in a population is 0.25.\n",
    "\n",
    "    - The standard deviation of a continuous random variable is the square root of the variance. For example, the standard deviation of the height of a person in a population is 0.5.\n",
    "\n",
    "    - Some examples of distributions for continuous random variables are the Gaussiann/Normal distribution, the exponential distribution."
   ]
  },
  {
   "cell_type": "markdown",
   "id": "3acb9e05",
   "metadata": {},
   "source": [
    "## Function of Random Variables\n",
    "\n",
    "+ Function of random variables is a random variable.\n",
    "\n",
    "\\begin{align*}\n",
    "E[g(X)]=\\int_{-\\infty}^{\\infty} g(x) f(x) d x\n",
    "\\end{align*}"
   ]
  },
  {
   "cell_type": "markdown",
   "id": "dc7186a6",
   "metadata": {},
   "source": [
    "## Expectation \n",
    "\n",
    "+ Discrete case:\n",
    "\\begin{align*}\n",
    "E[X] = \\sum_{i} x_i \\cdot P(X = x_i)\n",
    "\\end{align*}\n",
    "\n",
    "+ Continuous case:\n",
    "\\begin{align*}\n",
    "E[X] = \\int_{-\\infty}^{\\infty} x \\cdot f(x) dx\n",
    "\\end{align*}\n",
    "\n",
    "where $f(x)$ is the probability density function.\n",
    "\n",
    "+ Some Basic properties of Expectation:\n",
    "    + Linearity: $E[aX + bY] = aE[X] + bE[Y]$\n",
    "    + Expectation of a Constant: $E[c] = c$ for any constant $c$\n",
    "    + For Independent Variables: $E[XY] = E[X]E[Y]$\n",
    "\n",
    "\n"
   ]
  },
  {
   "cell_type": "markdown",
   "id": "31274165",
   "metadata": {},
   "source": [
    "## Variance\n",
    "\n",
    "\\begin{align*}\n",
    "E\\left[(X-E[X])^2\\right] & =E\\left[X^2-2 X E[X]+E[X]^2\\right] \\\\\n",
    "& =E\\left[X^2\\right]-E[2 X E[X]]+E[X]^2 \\\\\n",
    "& =E\\left[X^2\\right]-2 E[X] E[X]+E[X]^2 \\\\\n",
    "& =E\\left[X^2\\right]-E[X]^2\n",
    "\\end{align*}\n"
   ]
  },
  {
   "cell_type": "markdown",
   "id": "9b07b9a6",
   "metadata": {},
   "source": [
    "## Lets Code and understand --PMF vs PDF\n",
    "\n",
    "#### First we look at PMF !!"
   ]
  },
  {
   "cell_type": "code",
   "execution_count": 31,
   "id": "32c63708",
   "metadata": {},
   "outputs": [],
   "source": [
    "# Import Libraries\n",
    "import numpy as np\n",
    "import matplotlib.pyplot as plt\n",
    "from scipy.stats import norm\n",
    "import pandas as pd\n",
    "import seaborn as sns"
   ]
  },
  {
   "cell_type": "code",
   "execution_count": null,
   "id": "05d74646",
   "metadata": {},
   "outputs": [],
   "source": [
    "def pmf_die(x: int) -> float:\n",
    "    \"\"\"Probability mass function for a fair six sideddie.\"\"\"\n",
    "    if x in [1, 2, 3, 4, 5, 6]:\n",
    "        return 1/6\n",
    "    else:\n",
    "        return 0.0"
   ]
  },
  {
   "cell_type": "code",
   "execution_count": null,
   "id": "cf75d3cc",
   "metadata": {},
   "outputs": [
    {
     "data": {
      "image/png": "[encoded data removed]",
      "text/plain": [
       "<Figure size 576x360 with 1 Axes>"
      ]
     },
     "metadata": {
      "needs_background": "light"
     },
     "output_type": "display_data"
    }
   ],
   "source": [
    "# Plot PMF\n",
    "plt.figure(figsize=(8, 5))\n",
    "outcomes = np.arange(1, 7)\n",
    "probabilities = [pmf_die(x) for x in outcomes]\n",
    "\n",
    "plt.bar(outcomes, probabilities, color='skyblue', alpha=0.8, edgecolor='black')\n",
    "plt.title('PMF: Fair Six-Sided Die', fontsize=14, fontweight='bold')\n",
    "plt.xlabel('Outcome', fontsize=12)\n",
    "plt.ylabel('Probability', fontsize=12)\n",
    "plt.grid(True, alpha=0.3, axis='y')\n",
    "\n",
    "for i, prob in enumerate(probabilities):\n",
    "    plt.text(outcomes[i], prob + 0.01, f'{prob:.3f}', ha='center', fontsize=10)\n",
    "\n",
    "plt.ylim(0, 0.2)\n",
    "plt.show()"
   ]
  },
  {
   "cell_type": "code",
   "execution_count": null,
   "id": "c5b17303",
   "metadata": {},
   "outputs": [
    {
     "data": {
      "image/png": "[encoded data removed]",
      "text/plain": [
       "<Figure size 576x360 with 1 Axes>"
      ]
     },
     "metadata": {
      "needs_background": "light"
     },
     "output_type": "display_data"
    }
   ],
   "source": [
    "def cdf_die(x: int) -> float:\n",
    "    \"\"\"Cumulative distribution function for a fair six-sided die.\"\"\"\n",
    "    if x < 1:\n",
    "        return 0.0\n",
    "    elif x >= 6:\n",
    "        return 1.0\n",
    "    else:\n",
    "        return int(x) / 6\n",
    "\n",
    "# Plot CDF\n",
    "plt.figure(figsize=(8, 5))\n",
    "x_values = np.arange(0, 8)\n",
    "cdf_values = [cdf_die(x) for x in x_values]\n",
    "\n",
    "plt.step(x_values, cdf_values, where='post', linewidth=3, color='darkgreen')\n",
    "plt.scatter([1,2,3,4,5,6], [1/6, 2/6, 3/6, 4/6, 5/6, 1.0], \n",
    "           color='red', s=50, zorder=5)\n",
    "\n",
    "plt.title('CDF: Fair Six-Sided Die', fontsize=14, fontweight='bold')\n",
    "plt.xlabel('Outcome', fontsize=12)\n",
    "plt.ylabel('Cumulative Probability', fontsize=12)\n",
    "plt.grid(True, alpha=0.3)\n",
    "\n",
    "plt.text(1, 1/6 + 0.05, '1/6', ha='center', fontsize=10)\n",
    "plt.text(3, 3/6 + 0.05, '3/6', ha='center', fontsize=10)\n",
    "plt.text(6, 1.0 + 0.05, '1', ha='center', fontsize=10)\n",
    "\n",
    "plt.xlim(0, 7)\n",
    "plt.ylim(0, 1.1)\n",
    "plt.show()"
   ]
  },
  {
   "cell_type": "markdown",
   "id": "f32c0985",
   "metadata": {},
   "source": [
    "#### Lets look at PDF !!"
   ]
  },
  {
   "cell_type": "markdown",
   "id": "6bf33b3a",
   "metadata": {},
   "source": [
    "The Gaussian probability density function is given by:\n",
    "\n",
    "$$f(x) = \\frac{1}{\\sigma\\sqrt{2\\pi}} e^{-\\frac{1}{2}\\left(\\frac{x-\\mu}{\\sigma}\\right)^2}$$\n",
    "\n",
    "Where:\n",
    "- $\\mu$ is the mean\n",
    "- $\\sigma$ is the standard deviation\n",
    "- $x$ is the input value"
   ]
  },
  {
   "cell_type": "code",
   "execution_count": 9,
   "id": "39c3eb3a",
   "metadata": {},
   "outputs": [],
   "source": [
    "def pdf_gaussian(x, mu, sigma):\n",
    "    \"\"\"\n",
    "    Probability density function for a Gaussian/normal distribution.\n",
    "    \"\"\"\n",
    "    # mu, sigma = 0, 1  # mean and standard deviation for a standard normal distribution\n",
    "    return np.exp(-0.5 * ((x - mu) / sigma) ** 2) / (sigma * np.sqrt(2 * np.pi))"
   ]
  },
  {
   "cell_type": "markdown",
   "id": "09bc1421",
   "metadata": {},
   "source": [
    "#### Simulate Data for height of people "
   ]
  },
  {
   "cell_type": "code",
   "execution_count": 19,
   "id": "1a201ced",
   "metadata": {},
   "outputs": [
    {
     "data": {
      "image/png": "[encoded data removed]",
      "text/plain": [
       "<Figure size 720x432 with 1 Axes>"
      ]
     },
     "metadata": {
      "needs_background": "light"
     },
     "output_type": "display_data"
    }
   ],
   "source": [
    "plt.figure(figsize=(10, 6))\n",
    "\n",
    "# The data\n",
    "x = np.linspace(-4, 4, 1000)\n",
    "y = pdf_gaussian(x, 0, 1)\n",
    "\n",
    "# The plot\n",
    "plt.plot(x, y, linewidth=3, color='navy', label=' Gaussian Distribution')\n",
    "plt.fill_between(x, y, alpha=0.3, color='skyblue')\n",
    "plt.grid(True, alpha=0.3)\n",
    "\n",
    "plt.title('Heights of Adults', fontsize=16, fontweight='bold')\n",
    "plt.ylabel('Probability Density', fontsize=12)\n",
    "\n",
    "# Mark the sweet spots\n",
    "plt.axvline(0, color='red', linestyle='--', alpha=0.7)\n",
    "plt.text(0, 0.35, '\\nMost Common\\nHeight', ha='center', fontsize=12,\n",
    "         bbox=dict(boxstyle='round', facecolor='gold', alpha=0.8))\n",
    "\n",
    "plt.text(2, 0.1, 'NBA Player\\nTerritory', ha='center', fontsize=10,\n",
    "         bbox=dict(boxstyle='round', facecolor='orange', alpha=0.8))\n",
    "\n",
    "plt.text(-2, 0.1, 'Hobbit\\nTerritory', ha='center', fontsize=10,\n",
    "         bbox=dict(boxstyle='round', facecolor='lightgreen', alpha=0.8))\n",
    "\n",
    "plt.tight_layout()\n",
    "plt.show()"
   ]
  },
  {
   "cell_type": "markdown",
   "id": "31d98a15",
   "metadata": {},
   "source": [
    "#### Lets calculate the CDF"
   ]
  },
  {
   "cell_type": "code",
   "execution_count": null,
   "id": "baecf2d1",
   "metadata": {},
   "outputs": [
    {
     "data": {
      "image/png": "[encoded data removed]",
      "text/plain": [
       "<Figure size 720x432 with 1 Axes>"
      ]
     },
     "metadata": {
      "needs_background": "light"
     },
     "output_type": "display_data"
    }
   ],
   "source": [
    "plt.figure(figsize=(10, 6))\n",
    "\n",
    "# Generate CDF data\n",
    "#x = np.linspace(-4, 4, 1000) as simulated in above code block\n",
    "y_cdf = norm.cdf(x, 0, 1)\n",
    "\n",
    "# Plot CDF\n",
    "plt.plot(x, y_cdf, linewidth=3, color='darkgreen', label='Cumulative Distribution')\n",
    "plt.fill_between(x, y_cdf, alpha=0.3, color='lightgreen')\n",
    "plt.grid(True, alpha=0.3)\n",
    "\n",
    "plt.title('CDF?', fontsize=16, fontweight='bold')\n",
    "plt.xlabel('Height (standardized)', fontsize=12)\n",
    "plt.ylabel('Cumulative Probability (Percentage Below)', fontsize=12)\n",
    "\n",
    "\n",
    "plt.axhline(0.5, color='red', linestyle='--', alpha=0.7)\n",
    "plt.axvline(0, color='red', linestyle='--', alpha=0.7)\n",
    "\n",
    "\n",
    "plt.text(0.2, 0.5, 'People at average height,\\n50% of people are shorter', \n",
    "         ha='left', fontsize=11,\n",
    "         bbox=dict(boxstyle='round', facecolor='gold', alpha=0.8))\n",
    "\n",
    "\n",
    "plt.text(-1, 0.16, '16%', fontsize=10, ha='center', weight='bold')\n",
    "plt.text(0, 0.48, '50%', fontsize=10, ha='center', weight='bold')\n",
    "plt.text(1, 0.84, '84%', fontsize=10, ha='center', weight='bold')\n",
    "\n",
    "\n",
    "plt.ylim(0, 1)\n",
    "plt.tight_layout()\n",
    "plt.show()"
   ]
  },
  {
   "cell_type": "markdown",
   "id": "a48d2238",
   "metadata": {},
   "source": [
    "---"
   ]
  },
  {
   "cell_type": "markdown",
   "id": "1681dc16",
   "metadata": {},
   "source": [
    "## The All Causes Model \n"
   ]
  },
  {
   "cell_type": "markdown",
   "id": "564a1edb",
   "metadata": {},
   "source": [
    "## Descriptive vs Causal Questions??\n",
    "\n",
    "+ Descriptive Questions -  Describe what is happening (correlation, patterns, associations)\n",
    "    + How does student performance vary by class size?\n",
    "    + Are coffee drinkers more likely to work late hours?\n",
    "\n",
    "+ Causal Questions - Determine if one thing causes another (intervention effects)\n",
    "    + Do smaller class sizes improve student performance?\n",
    "    + Does drinking coffee cause people to work late hours?\n",
    "\n",
    "    "
   ]
  },
  {
   "cell_type": "markdown",
   "id": "6ea55699",
   "metadata": {},
   "source": [
    "#### We understand with a case study: \n",
    "\n",
    "+ A professor is on a mission to find out if attending classes regularly really gives students that extra grade boost. He's not just interested in *describing* what's happening he wants to figure out the *effect* of attendance on grades. \n",
    "\n",
    "**How do we go from simply observing grades to truly understanding *what causes* better performance?**"
   ]
  },
  {
   "cell_type": "markdown",
   "id": "76a4d34b",
   "metadata": {},
   "source": [
    "### Notation\n",
    "Let\n",
    "\n",
    "$$Y_i(s, u)$$\n",
    "\n",
    "represent the outcome of interest: grades for student $i$ under potential state $s$ and given all other factors $u$.\n",
    "- **$s$**: A potential state of the world, such as regularly attending classes ($s = 1$) or attending irregularly ($s = 0$).\n",
    "- **$u$**: All other factors that might influence grades, like study habits, prior knowledge, or motivation."
   ]
  },
  {
   "cell_type": "markdown",
   "id": "e9366990",
   "metadata": {},
   "source": [
    "### Descriptive Analysis\n",
    "\n",
    "\n",
    "Let us simulate grades based on a normal distribution. This allows us to later analyze how attendance impacts these grades.\n",
    "\n"
   ]
  },
  {
   "cell_type": "code",
   "execution_count": 29,
   "id": "7049eccb",
   "metadata": {},
   "outputs": [],
   "source": [
    "# Setting a random seed for reproducibility\n",
    "np.random.seed(42)\n",
    "\n",
    "# Parameters\n",
    "students = 1000\n",
    "mean_grade = 75\n",
    "std_grade = 12"
   ]
  },
  {
   "cell_type": "code",
   "execution_count": 33,
   "id": "84084640",
   "metadata": {},
   "outputs": [
    {
     "data": {
      "image/png": "[encoded data removed]",
      "text/plain": [
       "<Figure size 432x432 with 1 Axes>"
      ]
     },
     "metadata": {
      "needs_background": "light"
     },
     "output_type": "display_data"
    }
   ],
   "source": [
    "# Simulate attendance and grades\n",
    "grades = np.random.normal(mean_grade, std_grade, students)\n",
    "attendance = np.random.binomial(1, 0.6, students)\n",
    "grades = pd.DataFrame({\n",
    "    'Grade': grades,\n",
    "    'Attendance': attendance\n",
    "})\n",
    "\n",
    "# Plot\n",
    "plt.figure(figsize=(6, 6))\n",
    "sns.kdeplot(grades['Grade'])\n",
    "plt.title('Distribution of Grades')\n",
    "plt.xlabel('Grade')\n",
    "plt.ylabel('Density')\n",
    "plt.show()"
   ]
  },
  {
   "cell_type": "markdown",
   "id": "4a6057a6",
   "metadata": {},
   "source": [
    "We begin by examining the current state of the world, focusing on a straightforward descriptive question: **What is the average grade in this course?** Notice, here we are not distinguishing between different attendance patterns — our goal is to simply describe the grades as they are:\n",
    "\n",
    "- **_Current State ($s$):_** This represents the actual, observed state of the world where students have varied levels of attendance, but we are not yet separating them into “regular” or “irregular” attendance categories.\n",
    "  \n",
    "- **_Outcome ($Y_i(s, u)$):_** The grade $Y_i$ for student $i$ given their current attendance pattern $s$ and other influencing factors $u$.\n",
    "\n",
    "To calculate the average grade, we observe:\n",
    "\n",
    "\\begin{aligned}\n",
    "\\mathbb{E}[Y] = \\frac{1}{N} \\sum_{i=1}^N Y_i(s, u)\n",
    "\\end{aligned}\n",
    "\n",
    "\n",
    "where:\n",
    "- $N: \\text{is the number of students.}$\n",
    "- $s$ is the current attendance status for each student (which varies but is not yet isolated into specific patterns).\n",
    "- $u$ includes other relevant factors like study habits, prior knowledge, and motivation."
   ]
  },
  {
   "cell_type": "code",
   "execution_count": 34,
   "id": "ce826661",
   "metadata": {},
   "outputs": [
    {
     "data": {
      "text/html": [
       "<div>\n",
       "<style scoped>\n",
       "    .dataframe tbody tr th:only-of-type {\n",
       "        vertical-align: middle;\n",
       "    }\n",
       "\n",
       "    .dataframe tbody tr th {\n",
       "        vertical-align: top;\n",
       "    }\n",
       "\n",
       "    .dataframe thead th {\n",
       "        text-align: right;\n",
       "    }\n",
       "</style>\n",
       "<table border=\"1\" class=\"dataframe\">\n",
       "  <thead>\n",
       "    <tr style=\"text-align: right;\">\n",
       "      <th></th>\n",
       "      <th>Grade</th>\n",
       "      <th>Attendance</th>\n",
       "    </tr>\n",
       "  </thead>\n",
       "  <tbody>\n",
       "    <tr>\n",
       "      <th>0</th>\n",
       "      <td>98.044410</td>\n",
       "      <td>0</td>\n",
       "    </tr>\n",
       "    <tr>\n",
       "      <th>1</th>\n",
       "      <td>60.325260</td>\n",
       "      <td>1</td>\n",
       "    </tr>\n",
       "    <tr>\n",
       "      <th>2</th>\n",
       "      <td>75.855045</td>\n",
       "      <td>0</td>\n",
       "    </tr>\n",
       "    <tr>\n",
       "      <th>3</th>\n",
       "      <td>59.477908</td>\n",
       "      <td>1</td>\n",
       "    </tr>\n",
       "    <tr>\n",
       "      <th>4</th>\n",
       "      <td>66.651661</td>\n",
       "      <td>0</td>\n",
       "    </tr>\n",
       "  </tbody>\n",
       "</table>\n",
       "</div>"
      ],
      "text/plain": [
       "       Grade  Attendance\n",
       "0  98.044410           0\n",
       "1  60.325260           1\n",
       "2  75.855045           0\n",
       "3  59.477908           1\n",
       "4  66.651661           0"
      ]
     },
     "execution_count": 34,
     "metadata": {},
     "output_type": "execute_result"
    }
   ],
   "source": [
    "grades.head(5)"
   ]
  },
  {
   "cell_type": "code",
   "execution_count": 35,
   "id": "5f702cb5",
   "metadata": {},
   "outputs": [
    {
     "name": "stdout",
     "output_type": "stream",
     "text": [
      "Average grade in the course is 74.27.\n"
     ]
    }
   ],
   "source": [
    "print(f\"Average grade in the course is {grades['Grade'].mean():.2f}.\")"
   ]
  },
  {
   "cell_type": "markdown",
   "id": "92a75830",
   "metadata": {},
   "source": [
    "**Can we now answer what is the effect of attendance on grades? Not yet! Why?** Even though we've got some insights from our descriptive analysis, there's a big issue we can't overlook: we're only seeing each student in **one attendance scenario** — either regular or irregular.\n",
    "\n",
    "We have no idea what would happen to their grades if they switched their attendance pattern! This missing information —**the counterfactual**— is exactly what makes causal inference so tricky and it's known as **the fundamental problem of causal inference**."
   ]
  },
  {
   "cell_type": "markdown",
   "id": "94a94d87",
   "metadata": {},
   "source": [
    "\n",
    "### From Descriptive to Causal Analysis in a Perfect World (For Now)\n",
    "\n",
    "Assumptions:\n",
    "\n",
    "1. **Perfect Knowledge of Both States:** We can observe both regular $Y_i(1, u)$ and irregular attendance $Y_i(0, u)$ grades for every student — something that's impossible in the real world.\n",
    "2. **No Confounding Factors:** Attendance is the only factor affecting grades, which may not be true in reality.\n",
    "3. **Random Assignment:** Attendance can simulated as being randomly assigned, avoiding biases often seen in real-world settings.\n",
    "\n",
    "Given our “perfect world”, **Average Treatment Effect (ATE)** is defined as:\n",
    "\n",
    "$$\n",
    "\\text{ATE} = \\mathbb{E}[Y_i(1, u)] - \\mathbb{E}[Y_i(0, u)].\n",
    "$$\n"
   ]
  },
  {
   "cell_type": "markdown",
   "id": "d7ce4383",
   "metadata": {},
   "source": [
    "## Lets code and see !!"
   ]
  },
  {
   "cell_type": "code",
   "execution_count": 37,
   "id": "d5b02bdf",
   "metadata": {},
   "outputs": [],
   "source": [
    "# Simulations\n",
    "attend_effect = 10\n",
    "attendance = np.random.binomial(1, 0.5, students)\n",
    "grades = grades['Grade']\n",
    "grades_attend = grades + attendance * attend_effect\n",
    "grades_nattend = grades\n",
    "\n",
    "# Create DataFrame\n",
    "attend = pd.DataFrame({\n",
    "    'Student_ID': np.arange(1, students + 1),\n",
    "    'Attendance': attendance,\n",
    "    'Grade_With_Attendance': grades_attend,\n",
    "    'Grade_Without_Attendance': grades_nattend\n",
    "})\n"
   ]
  },
  {
   "cell_type": "code",
   "execution_count": 38,
   "id": "f61ccd78",
   "metadata": {},
   "outputs": [
    {
     "data": {
      "text/html": [
       "<div>\n",
       "<style scoped>\n",
       "    .dataframe tbody tr th:only-of-type {\n",
       "        vertical-align: middle;\n",
       "    }\n",
       "\n",
       "    .dataframe tbody tr th {\n",
       "        vertical-align: top;\n",
       "    }\n",
       "\n",
       "    .dataframe thead th {\n",
       "        text-align: right;\n",
       "    }\n",
       "</style>\n",
       "<table border=\"1\" class=\"dataframe\">\n",
       "  <thead>\n",
       "    <tr style=\"text-align: right;\">\n",
       "      <th></th>\n",
       "      <th>Student_ID</th>\n",
       "      <th>Attendance</th>\n",
       "      <th>Grade_With_Attendance</th>\n",
       "      <th>Grade_Without_Attendance</th>\n",
       "    </tr>\n",
       "  </thead>\n",
       "  <tbody>\n",
       "    <tr>\n",
       "      <th>0</th>\n",
       "      <td>1</td>\n",
       "      <td>1</td>\n",
       "      <td>108.044410</td>\n",
       "      <td>98.044410</td>\n",
       "    </tr>\n",
       "    <tr>\n",
       "      <th>1</th>\n",
       "      <td>2</td>\n",
       "      <td>1</td>\n",
       "      <td>70.325260</td>\n",
       "      <td>60.325260</td>\n",
       "    </tr>\n",
       "    <tr>\n",
       "      <th>2</th>\n",
       "      <td>3</td>\n",
       "      <td>0</td>\n",
       "      <td>75.855045</td>\n",
       "      <td>75.855045</td>\n",
       "    </tr>\n",
       "    <tr>\n",
       "      <th>3</th>\n",
       "      <td>4</td>\n",
       "      <td>1</td>\n",
       "      <td>69.477908</td>\n",
       "      <td>59.477908</td>\n",
       "    </tr>\n",
       "    <tr>\n",
       "      <th>4</th>\n",
       "      <td>5</td>\n",
       "      <td>1</td>\n",
       "      <td>76.651661</td>\n",
       "      <td>66.651661</td>\n",
       "    </tr>\n",
       "  </tbody>\n",
       "</table>\n",
       "</div>"
      ],
      "text/plain": [
       "   Student_ID  Attendance  Grade_With_Attendance  Grade_Without_Attendance\n",
       "0           1           1             108.044410                 98.044410\n",
       "1           2           1              70.325260                 60.325260\n",
       "2           3           0              75.855045                 75.855045\n",
       "3           4           1              69.477908                 59.477908\n",
       "4           5           1              76.651661                 66.651661"
      ]
     },
     "execution_count": 38,
     "metadata": {},
     "output_type": "execute_result"
    }
   ],
   "source": [
    "attend.head(5)"
   ]
  },
  {
   "cell_type": "code",
   "execution_count": 39,
   "id": "6ab1e82f",
   "metadata": {},
   "outputs": [
    {
     "data": {
      "text/html": [
       "<div>\n",
       "<style scoped>\n",
       "    .dataframe tbody tr th:only-of-type {\n",
       "        vertical-align: middle;\n",
       "    }\n",
       "\n",
       "    .dataframe tbody tr th {\n",
       "        vertical-align: top;\n",
       "    }\n",
       "\n",
       "    .dataframe thead th {\n",
       "        text-align: right;\n",
       "    }\n",
       "</style>\n",
       "<table border=\"1\" class=\"dataframe\">\n",
       "  <thead>\n",
       "    <tr style=\"text-align: right;\">\n",
       "      <th></th>\n",
       "      <th>Student_ID</th>\n",
       "      <th>Attendance</th>\n",
       "      <th>Grade_With_Attendance</th>\n",
       "      <th>Grade_Without_Attendance</th>\n",
       "    </tr>\n",
       "  </thead>\n",
       "  <tbody>\n",
       "    <tr>\n",
       "      <th>count</th>\n",
       "      <td>1000.000000</td>\n",
       "      <td>1000.000000</td>\n",
       "      <td>1000.000000</td>\n",
       "      <td>1000.000000</td>\n",
       "    </tr>\n",
       "    <tr>\n",
       "      <th>mean</th>\n",
       "      <td>500.500000</td>\n",
       "      <td>0.482000</td>\n",
       "      <td>79.089704</td>\n",
       "      <td>74.269704</td>\n",
       "    </tr>\n",
       "    <tr>\n",
       "      <th>std</th>\n",
       "      <td>288.819436</td>\n",
       "      <td>0.499926</td>\n",
       "      <td>12.735791</td>\n",
       "      <td>11.798779</td>\n",
       "    </tr>\n",
       "    <tr>\n",
       "      <th>min</th>\n",
       "      <td>1.000000</td>\n",
       "      <td>0.000000</td>\n",
       "      <td>38.908412</td>\n",
       "      <td>38.908412</td>\n",
       "    </tr>\n",
       "    <tr>\n",
       "      <th>25%</th>\n",
       "      <td>250.750000</td>\n",
       "      <td>0.000000</td>\n",
       "      <td>70.348702</td>\n",
       "      <td>66.248950</td>\n",
       "    </tr>\n",
       "    <tr>\n",
       "      <th>50%</th>\n",
       "      <td>500.500000</td>\n",
       "      <td>0.000000</td>\n",
       "      <td>79.149693</td>\n",
       "      <td>74.520596</td>\n",
       "    </tr>\n",
       "    <tr>\n",
       "      <th>75%</th>\n",
       "      <td>750.250000</td>\n",
       "      <td>1.000000</td>\n",
       "      <td>87.859317</td>\n",
       "      <td>82.046758</td>\n",
       "    </tr>\n",
       "    <tr>\n",
       "      <th>max</th>\n",
       "      <td>1000.000000</td>\n",
       "      <td>1.000000</td>\n",
       "      <td>122.824681</td>\n",
       "      <td>113.917116</td>\n",
       "    </tr>\n",
       "  </tbody>\n",
       "</table>\n",
       "</div>"
      ],
      "text/plain": [
       "        Student_ID   Attendance  Grade_With_Attendance  \\\n",
       "count  1000.000000  1000.000000            1000.000000   \n",
       "mean    500.500000     0.482000              79.089704   \n",
       "std     288.819436     0.499926              12.735791   \n",
       "min       1.000000     0.000000              38.908412   \n",
       "25%     250.750000     0.000000              70.348702   \n",
       "50%     500.500000     0.000000              79.149693   \n",
       "75%     750.250000     1.000000              87.859317   \n",
       "max    1000.000000     1.000000             122.824681   \n",
       "\n",
       "       Grade_Without_Attendance  \n",
       "count               1000.000000  \n",
       "mean                  74.269704  \n",
       "std                   11.798779  \n",
       "min                   38.908412  \n",
       "25%                   66.248950  \n",
       "50%                   74.520596  \n",
       "75%                   82.046758  \n",
       "max                  113.917116  "
      ]
     },
     "execution_count": 39,
     "metadata": {},
     "output_type": "execute_result"
    }
   ],
   "source": [
    "attend.describe()"
   ]
  },
  {
   "cell_type": "code",
   "execution_count": 43,
   "id": "6d23fcf9",
   "metadata": {},
   "outputs": [],
   "source": [
    "#help(attend.describe())"
   ]
  },
  {
   "cell_type": "code",
   "execution_count": 44,
   "id": "b4a47fc3",
   "metadata": {},
   "outputs": [
    {
     "name": "stdout",
     "output_type": "stream",
     "text": [
      "Average grade with regular attendance: 79.09\n",
      "Average grade with irregular attendance: 74.27\n",
      "Regular attendance improves grades by 4.82 points.\n"
     ]
    }
   ],
   "source": [
    "# Calculate average grades for each state\n",
    "avg_reg = attend['Grade_With_Attendance'].mean()\n",
    "avg_irr = attend['Grade_Without_Attendance'].mean()\n",
    "\n",
    "# Calculate the causal effect\n",
    "ate = avg_reg - avg_irr\n",
    "\n",
    "# Output results\n",
    "print(f\"Average grade with regular attendance: {avg_reg:.2f}\")\n",
    "print(f\"Average grade with irregular attendance: {avg_irr:.2f}\")\n",
    "print(f\"Regular attendance improves grades by {ate:.2f} points.\")\n",
    "\n"
   ]
  },
  {
   "cell_type": "code",
   "execution_count": 45,
   "id": "1e980880",
   "metadata": {},
   "outputs": [
    {
     "data": {
      "text/plain": [
       "Text(1.15, 89.08970427388714, 'ATE: 4.82 points')"
      ]
     },
     "execution_count": 45,
     "metadata": {},
     "output_type": "execute_result"
    },
    {
     "data": {
      "image/png": "[encoded data removed]",
      "text/plain": [
       "<Figure size 432x432 with 1 Axes>"
      ]
     },
     "metadata": {
      "needs_background": "light"
     },
     "output_type": "display_data"
    }
   ],
   "source": [
    "# Plotting\n",
    "labels = ['Regular Attendance', 'Irregular Attendance']\n",
    "values = [avg_reg, avg_irr]\n",
    "plt.figure(figsize=(6, 6))\n",
    "sns.barplot(\n",
    "    x=labels, y=values, hue=labels, palette = ['#c98389','#5c9ba4'], legend=False\n",
    "    )\n",
    "plt.title('Effect of Regular Attendance on Grades', fontsize=16)\n",
    "plt.ylabel('Average Grade', fontsize=14)\n",
    "plt.ylim(0, 100)\n",
    "plt.annotate(\n",
    "    f'ATE: {ate:.2f} points', xy=(0.95, avg_reg), xytext=(1.15, avg_reg + 10)\n",
    "    )\n"
   ]
  },
  {
   "cell_type": "markdown",
   "id": "120a245b",
   "metadata": {},
   "source": [
    "## Office Hours Monday 3PM - 4PM  Room No - 244\n",
    "or dropin your questions at vka244@nyu.edu\n"
   ]
  },
  {
   "cell_type": "markdown",
   "id": "4067fa09",
   "metadata": {},
   "source": []
  }
 ],
 "metadata": {
  "kernelspec": {
   "display_name": "FSA_with_python",
   "language": "python",
   "name": "python3"
  },
  "language_info": {
   "codemirror_mode": {
    "name": "ipython",
    "version": 3
   },
   "file_extension": ".py",
   "mimetype": "text/x-python",
   "name": "python",
   "nbconvert_exporter": "python",
   "pygments_lexer": "ipython3",
   "version": "3.8.5"
  }
 },
 "nbformat": 4,
 "nbformat_minor": 5
}
